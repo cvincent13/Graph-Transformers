{
 "cells": [
  {
   "cell_type": "code",
   "execution_count": 1,
   "metadata": {},
   "outputs": [],
   "source": [
    "import numpy as np\n",
    "import matplotlib.pyplot as plt\n",
    "\n",
    "import torch\n",
    "import torch.nn as nn\n",
    "import torch.nn.functional as F\n",
    "\n",
    "import torch.optim as optim\n",
    "from torch.utils.data import DataLoader\n",
    "import random\n",
    "import time\n",
    "from tqdm.notebook import tqdm\n",
    "\n",
    "import torch_geometric\n",
    "import torch_geometric.transforms as T\n",
    "from torch_geometric.datasets import ZINC\n",
    "import networkx as nx\n",
    "from scipy import sparse as sp\n",
    "\n",
    "import os\n",
    "import pickle\n",
    "\n",
    "import hashlib\n",
    "\n",
    "from models import GraphRegressionGraphTransformer, GraphTransformerEdges, GraphTransformer, GraphRegressionGraphTransformerEdges\n",
    "from preprocess import AddLaplacianPosEncoding\n",
    "from train import train_one_epoch, evaluate"
   ]
  },
  {
   "cell_type": "code",
   "execution_count": 2,
   "metadata": {},
   "outputs": [
    {
     "name": "stdout",
     "output_type": "stream",
     "text": [
      "cuda available with GPU: NVIDIA GeForce GTX 1660 Ti\n"
     ]
    }
   ],
   "source": [
    "SEED = 0\n",
    "\n",
    "if torch.cuda.is_available():\n",
    "    print('cuda available with GPU:',torch.cuda.get_device_name(0))\n",
    "    device = torch.device(\"cuda\")\n",
    "else:\n",
    "    print('cuda not available')\n",
    "    device = torch.device(\"cpu\")\n",
    "\n",
    "random.seed(SEED)\n",
    "np.random.seed(SEED)\n",
    "torch.manual_seed(SEED)\n",
    "if device.type == 'cuda':\n",
    "    torch.cuda.manual_seed(SEED)\n"
   ]
  },
  {
   "cell_type": "markdown",
   "metadata": {},
   "source": [
    "# Parameters"
   ]
  },
  {
   "cell_type": "code",
   "execution_count": 3,
   "metadata": {},
   "outputs": [],
   "source": [
    "# Dimension of positional encoding, ex number of non-trivial eigenvalues for laplacian positional encoding\n",
    "POS_ENCODING_DIM = 6\n",
    "\n",
    "# Training parameters\n",
    "BATCH_SIZE = 128\n",
    "INIT_LR = 0.0007\n",
    "WEIGHT_DECAY = 0.0\n",
    "LR_REDUCE_FACTOR = 0.5\n",
    "PATIENCE = 15\n",
    "MIN_LR = 1e-6\n",
    "EPOCHS = 2\n",
    "\n",
    "# Network parameters\n",
    "n_hidden = 64\n",
    "n_head = 8\n",
    "n_feedforward = 160\n",
    "n_layers = 10\n",
    "input_dropout = 0.0\n",
    "dropout = 0.0\n",
    "norm = 'batch'\n",
    "readout = 'mean'"
   ]
  },
  {
   "cell_type": "markdown",
   "metadata": {},
   "source": [
    "# Data"
   ]
  },
  {
   "cell_type": "code",
   "execution_count": 4,
   "metadata": {},
   "outputs": [],
   "source": [
    "# Dataset and prior transforms\n",
    "data_transforms = T.Compose([\n",
    "    AddLaplacianPosEncoding(POS_ENCODING_DIM),\n",
    "    T.AddSelfLoops('edge_attr')\n",
    "    ])\n",
    "\n",
    "\n",
    "dataset_train = ZINC('data', subset=True, split='train', pre_transform=data_transforms)\n",
    "dataset_val = ZINC('data', subset=True, split='val', pre_transform=data_transforms)\n",
    "dataset_test = ZINC('data', subset=True, split='test', pre_transform=data_transforms)"
   ]
  },
  {
   "cell_type": "code",
   "execution_count": 5,
   "metadata": {},
   "outputs": [],
   "source": [
    "# Dataloaders\n",
    "dataloader_train = torch_geometric.loader.DataLoader(dataset_train, batch_size=BATCH_SIZE, shuffle=True)\n",
    "dataloader_val = torch_geometric.loader.DataLoader(dataset_val, batch_size=BATCH_SIZE, shuffle=True)\n",
    "dataloader_test = torch_geometric.loader.DataLoader(dataset_test, batch_size=BATCH_SIZE, shuffle=True)"
   ]
  },
  {
   "cell_type": "code",
   "execution_count": 6,
   "metadata": {},
   "outputs": [],
   "source": [
    "# Vocabulary sizes for nodes and edges, for embedding layers\n",
    "n_nodes_input = torch.unique(dataset_train.x[:,0]).size(0)\n",
    "n_edges_input = torch.unique(dataset_train.edge_attr).size(0)+1"
   ]
  },
  {
   "cell_type": "markdown",
   "metadata": {},
   "source": [
    "# Training and test"
   ]
  },
  {
   "cell_type": "code",
   "execution_count": 7,
   "metadata": {},
   "outputs": [],
   "source": [
    "model = GraphRegressionGraphTransformerEdges(n_nodes_input, \n",
    "                                             n_edges_input, \n",
    "                                             n_hidden, \n",
    "                                             n_head, \n",
    "                                             n_feedforward, \n",
    "                                             n_layers, \n",
    "                                             input_dropout=input_dropout, \n",
    "                                             dropout=dropout, \n",
    "                                             k=POS_ENCODING_DIM, \n",
    "                                             norm=norm,\n",
    "                                             readout = readout)\n",
    "model = model.to(device)\n",
    "\n",
    "criterion = nn.L1Loss()\n",
    "optimizer = optim.Adam(model.parameters(), lr=INIT_LR, weight_decay=WEIGHT_DECAY)\n",
    "scheduler = optim.lr_scheduler.ReduceLROnPlateau(optimizer, \n",
    "                                                 mode='min',\n",
    "                                                 factor=LR_REDUCE_FACTOR,\n",
    "                                                 patience=PATIENCE,\n",
    "                                                 verbose=True)\n",
    "\n",
    "epoch_train_losses, epoch_val_losses = [], []\n",
    "epoch_train_accs, epoch_val_accs = [], [] "
   ]
  },
  {
   "cell_type": "code",
   "execution_count": 8,
   "metadata": {},
   "outputs": [
    {
     "data": {
      "application/vnd.jupyter.widget-view+json": {
       "model_id": "91a2157cdda24412a7806c28bf310e0f",
       "version_major": 2,
       "version_minor": 0
      },
      "text/plain": [
       "  0%|          | 0/79 [00:00<?, ?it/s]"
      ]
     },
     "metadata": {},
     "output_type": "display_data"
    },
    {
     "data": {
      "application/vnd.jupyter.widget-view+json": {
       "model_id": "523de5c9d3294eb5b4b315ecc8f8abce",
       "version_major": 2,
       "version_minor": 0
      },
      "text/plain": [
       "  0%|          | 0/8 [00:00<?, ?it/s]"
      ]
     },
     "metadata": {},
     "output_type": "display_data"
    },
    {
     "name": "stdout",
     "output_type": "stream",
     "text": [
      "Epoch 1/2: Train loss = 0.8705, Validation loss = 0.7259, Learning rate = 0.0007\n"
     ]
    },
    {
     "data": {
      "application/vnd.jupyter.widget-view+json": {
       "model_id": "9de0f9a51f104a3eb6bd5ef2cb079c6d",
       "version_major": 2,
       "version_minor": 0
      },
      "text/plain": [
       "  0%|          | 0/79 [00:00<?, ?it/s]"
      ]
     },
     "metadata": {},
     "output_type": "display_data"
    },
    {
     "data": {
      "application/vnd.jupyter.widget-view+json": {
       "model_id": "b4e5a697508342e38863d350709f35bf",
       "version_major": 2,
       "version_minor": 0
      },
      "text/plain": [
       "  0%|          | 0/8 [00:00<?, ?it/s]"
      ]
     },
     "metadata": {},
     "output_type": "display_data"
    },
    {
     "name": "stdout",
     "output_type": "stream",
     "text": [
      "Epoch 2/2: Train loss = 0.6709, Validation loss = 0.6758, Learning rate = 0.0007\n"
     ]
    }
   ],
   "source": [
    "for epoch in range(EPOCHS):\n",
    "    \n",
    "    epoch_train_loss, optimizer = train_one_epoch(model, dataloader_train, epoch, device, optimizer, criterion)\n",
    "\n",
    "    epoch_val_loss = evaluate(model, dataloader_val, device, criterion) \n",
    "\n",
    "    epoch_train_losses.append(epoch_train_loss)\n",
    "    epoch_val_losses.append(epoch_val_loss)\n",
    "\n",
    "    lr = optimizer.param_groups[0]['lr']\n",
    "    print(f'Epoch {epoch+1}/{EPOCHS}: Train loss = {epoch_train_loss:.4f}, Validation loss = {epoch_val_loss:.4f}, Learning rate = {lr}')"
   ]
  },
  {
   "cell_type": "code",
   "execution_count": 14,
   "metadata": {},
   "outputs": [
    {
     "data": {
      "application/vnd.jupyter.widget-view+json": {
       "model_id": "2a4382a6221a4dbb9ad8e95f09e036d1",
       "version_major": 2,
       "version_minor": 0
      },
      "text/plain": [
       "  0%|          | 0/8 [00:00<?, ?it/s]"
      ]
     },
     "metadata": {},
     "output_type": "display_data"
    },
    {
     "data": {
      "text/plain": [
       "0.7757272198796272"
      ]
     },
     "execution_count": 14,
     "metadata": {},
     "output_type": "execute_result"
    }
   ],
   "source": [
    "epoch_test_loss = evaluate(model, dataloader_test)\n",
    "epoch_test_loss"
   ]
  },
  {
   "cell_type": "code",
   "execution_count": 42,
   "metadata": {},
   "outputs": [
    {
     "data": {
      "image/png": "[encoded data removed]",
      "text/plain": [
       "<Figure size 640x480 with 1 Axes>"
      ]
     },
     "metadata": {},
     "output_type": "display_data"
    }
   ],
   "source": [
    "plt.plot(range(EPOCHS), epoch_train_losses, '-o', label='train loss')\n",
    "plt.plot(range(EPOCHS), epoch_val_losses, '-o', label='validation loss')\n",
    "plt.legend()\n",
    "plt.grid()"
   ]
  },
  {
   "cell_type": "code",
   "execution_count": 48,
   "metadata": {},
   "outputs": [
    {
     "data": {
      "text/plain": [
       "463745"
      ]
     },
     "execution_count": 48,
     "metadata": {},
     "output_type": "execute_result"
    }
   ],
   "source": [
    "sum(p.numel() for p in model.parameters() if p.requires_grad)"
   ]
  },
  {
   "cell_type": "code",
   "execution_count": null,
   "metadata": {},
   "outputs": [],
   "source": []
  }
 ],
 "metadata": {
  "kernelspec": {
   "display_name": "geometric",
   "language": "python",
   "name": "python3"
  },
  "language_info": {
   "codemirror_mode": {
    "name": "ipython",
    "version": 3
   },
   "file_extension": ".py",
   "mimetype": "text/x-python",
   "name": "python",
   "nbconvert_exporter": "python",
   "pygments_lexer": "ipython3",
   "version": "3.11.5"
  }
 },
 "nbformat": 4,
 "nbformat_minor": 2
}
