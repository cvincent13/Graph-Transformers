{
 "cells": [
  {
   "cell_type": "code",
   "execution_count": 1,
   "metadata": {},
   "outputs": [],
   "source": [
    "import numpy as np\n",
    "import matplotlib.pyplot as plt\n",
    "\n",
    "import torch\n",
    "import torch.nn as nn\n",
    "import torch.nn.functional as F\n",
    "\n",
    "import torch.optim as optim\n",
    "import random\n",
    "import time\n",
    "from tqdm.notebook import tqdm\n",
    "\n",
    "import torch_geometric\n",
    "import torch_geometric.transforms as T\n",
    "from torch_geometric.datasets import GNNBenchmarkDataset\n",
    "from torch_geometric.data import Data, Batch\n",
    "from torch_geometric.utils.convert import from_networkx\n",
    "import networkx as nx\n",
    "from scipy import sparse as sp\n",
    "\n",
    "from models import NodeClassificationGraphTransformer, GraphTransformerEdges, GraphTransformer, GraphRepresentationGraphTransformer\n",
    "from preprocess import AddLaplacianPosEncoding, AddWLPosEncoding, MakeFullGraph\n",
    "from trainSBM import train_one_epoch, evaluate"
   ]
  },
  {
   "cell_type": "code",
   "execution_count": 2,
   "metadata": {},
   "outputs": [
    {
     "name": "stdout",
     "output_type": "stream",
     "text": [
      "cuda available with GPU: NVIDIA GeForce GTX 1660 Ti\n"
     ]
    }
   ],
   "source": [
    "SEED = 0\n",
    "\n",
    "if torch.cuda.is_available():\n",
    "    print('cuda available with GPU:',torch.cuda.get_device_name(0))\n",
    "    device = torch.device(\"cuda\")\n",
    "else:\n",
    "    print('cuda not available')\n",
    "    device = torch.device(\"cpu\")\n",
    "\n",
    "random.seed(SEED)\n",
    "np.random.seed(SEED)\n",
    "torch.manual_seed(SEED)\n",
    "if device.type == 'cuda':\n",
    "    torch.cuda.manual_seed(SEED)\n"
   ]
  },
  {
   "cell_type": "code",
   "execution_count": 3,
   "metadata": {},
   "outputs": [],
   "source": [
    "# Dimension of positional encoding, ex number of non-trivial eigenvalues for laplacian positional encoding\n",
    "POS_ENCODING_DIM = 2 # 2 / 10\n",
    "\n",
    "# Training parameters\n",
    "BATCH_SIZE = 32\n",
    "INIT_LR = 0.0005\n",
    "WEIGHT_DECAY = 0.0\n",
    "LR_REDUCE_FACTOR = 0.5\n",
    "PATIENCE = 10\n",
    "MIN_LR = 1e-6\n",
    "EPOCHS = 50\n",
    "\n",
    "# Network parameters\n",
    "n_hidden = 80\n",
    "n_head = 8\n",
    "n_feedforward = 160\n",
    "n_layers = 4\n",
    "input_dropout = 0.0\n",
    "dropout = 0.0\n",
    "norm = 'layer'\n",
    "readout = 'mean'"
   ]
  },
  {
   "cell_type": "code",
   "execution_count": 39,
   "metadata": {},
   "outputs": [
    {
     "data": {
      "text/plain": [
       "DataBatch(edge_index=[2, 290], num_nodes=145, laplacian_eigs=[145, 2], wl_encoding=[145], batch=[145], ptr=[11])"
      ]
     },
     "execution_count": 39,
     "metadata": {},
     "output_type": "execute_result"
    }
   ],
   "source": [
    "transforms = T.Compose([\n",
    "    AddLaplacianPosEncoding(POS_ENCODING_DIM),\n",
    "    AddWLPosEncoding(),\n",
    "    #MakeFullGraph(),\n",
    "    #T.AddSelfLoops('edge_attr')\n",
    "])\n",
    "\n",
    "# Generate a list of 10 cycle graphs with sizes ranging from 10 to 20\n",
    "networkx_graphs = [nx.cycle_graph(num_nodes) for num_nodes in range(10, 20)]\n",
    "\n",
    "# Convert NetworkX graphs to PyTorch Geometric format\n",
    "torch_geometric_graphs = [transforms(from_networkx(graph)) for graph in networkx_graphs]\n",
    "\n",
    "# Create a batch from the list of graphs\n",
    "batch = Batch.from_data_list(torch_geometric_graphs)\n",
    "batch"
   ]
  },
  {
   "cell_type": "code",
   "execution_count": 40,
   "metadata": {},
   "outputs": [
    {
     "data": {
      "text/plain": [
       "Data(edge_index=[2, 20], num_nodes=10, laplacian_eigs=[10, 2], wl_encoding=[10])"
      ]
     },
     "execution_count": 40,
     "metadata": {},
     "output_type": "execute_result"
    }
   ],
   "source": [
    "g = torch_geometric_graphs[0]\n",
    "g"
   ]
  },
  {
   "cell_type": "code",
   "execution_count": 41,
   "metadata": {},
   "outputs": [
    {
     "data": {
      "text/plain": [
       "tensor([1, 1, 1, 1, 1, 1, 1, 1, 1, 1])"
      ]
     },
     "execution_count": 41,
     "metadata": {},
     "output_type": "execute_result"
    }
   ],
   "source": [
    "g.wl_encoding"
   ]
  },
  {
   "cell_type": "code",
   "execution_count": 42,
   "metadata": {},
   "outputs": [
    {
     "data": {
      "text/plain": [
       "<matplotlib.image.AxesImage at 0x7f250d3cce10>"
      ]
     },
     "execution_count": 42,
     "metadata": {},
     "output_type": "execute_result"
    },
    {
     "data": {
      "image/png": "[encoded data removed]",
      "text/plain": [
       "<Figure size 640x480 with 1 Axes>"
      ]
     },
     "metadata": {},
     "output_type": "display_data"
    }
   ],
   "source": [
    "plt.imshow(g.laplacian_eigs.numpy())"
   ]
  },
  {
   "cell_type": "code",
   "execution_count": 43,
   "metadata": {},
   "outputs": [
    {
     "data": {
      "image/png": "[encoded data removed]",
      "text/plain": [
       "<Figure size 640x480 with 1 Axes>"
      ]
     },
     "metadata": {},
     "output_type": "display_data"
    }
   ],
   "source": [
    "nx.draw_circular(networkx_graphs[0])"
   ]
  },
  {
   "cell_type": "code",
   "execution_count": 44,
   "metadata": {},
   "outputs": [
    {
     "name": "stderr",
     "output_type": "stream",
     "text": [
      "/tmp/ipykernel_90229/131016083.py:3: UserWarning: torch.range is deprecated and will be removed in a future release because its behavior is inconsistent with Python's range builtin. Instead, use torch.arange, which produces values in [start, end).\n",
      "  batch.x = torch.range(0, batch.num_nodes-1, dtype=torch.long)\n"
     ]
    }
   ],
   "source": [
    "# Features\n",
    "#batch.x = torch.ones(batch.num_nodes, dtype=torch.long)\n",
    "batch.x = torch.range(0, batch.num_nodes-1, dtype=torch.long)"
   ]
  },
  {
   "cell_type": "code",
   "execution_count": 45,
   "metadata": {},
   "outputs": [],
   "source": [
    "model = GraphTransformer(batch.num_nodes, 16, 4, 20, 1, 0.0, 0.0, POS_ENCODING_DIM, 'laplacian', 'layer')"
   ]
  },
  {
   "cell_type": "code",
   "execution_count": 46,
   "metadata": {},
   "outputs": [],
   "source": [
    "out, attention_scores = model(batch, batch.x, batch.laplacian_eigs)"
   ]
  },
  {
   "cell_type": "code",
   "execution_count": 47,
   "metadata": {},
   "outputs": [
    {
     "data": {
      "text/plain": [
       "torch.Size([145, 16])"
      ]
     },
     "execution_count": 47,
     "metadata": {},
     "output_type": "execute_result"
    }
   ],
   "source": [
    "out.shape"
   ]
  },
  {
   "cell_type": "code",
   "execution_count": 48,
   "metadata": {},
   "outputs": [
    {
     "data": {
      "text/plain": [
       "torch.Size([10, 4, 19, 19])"
      ]
     },
     "execution_count": 48,
     "metadata": {},
     "output_type": "execute_result"
    }
   ],
   "source": [
    "attention_scores[0].shape"
   ]
  },
  {
   "cell_type": "code",
   "execution_count": 49,
   "metadata": {},
   "outputs": [
    {
     "data": {
      "text/plain": [
       "array([5.6051939e-45, 4.1437468e-01, 2.3822074e-44, 1.1210388e-44,\n",
       "       5.6051939e-44, 6.0255834e-44, 1.2611686e-44, 4.0637655e-44,\n",
       "       1.8216880e-44, 5.8562529e-01, 2.2420775e-44, 2.2420775e-44,\n",
       "       2.2420775e-44, 2.2420775e-44, 2.2420775e-44, 2.2420775e-44,\n",
       "       2.2420775e-44, 2.2420775e-44, 2.2420775e-44], dtype=float32)"
      ]
     },
     "execution_count": 49,
     "metadata": {},
     "output_type": "execute_result"
    }
   ],
   "source": [
    "attention_scores[0][0,2].detach().numpy()[0]"
   ]
  },
  {
   "cell_type": "code",
   "execution_count": 50,
   "metadata": {},
   "outputs": [
    {
     "data": {
      "text/plain": [
       "<matplotlib.image.AxesImage at 0x7f2505674210>"
      ]
     },
     "execution_count": 50,
     "metadata": {},
     "output_type": "execute_result"
    },
    {
     "data": {
      "image/png": "[encoded data removed]",
      "text/plain": [
       "<Figure size 640x480 with 1 Axes>"
      ]
     },
     "metadata": {},
     "output_type": "display_data"
    }
   ],
   "source": [
    "plt.imshow(attention_scores[0][5,0].detach().numpy(), cmap='gray')"
   ]
  },
  {
   "cell_type": "code",
   "execution_count": 26,
   "metadata": {},
   "outputs": [
    {
     "data": {
      "text/plain": [
       "tensor([nan, nan, nan, nan, nan, nan, nan, nan, nan, nan])"
      ]
     },
     "execution_count": 26,
     "metadata": {},
     "output_type": "execute_result"
    }
   ],
   "source": [
    "torch.zeros(10)*torch.inf\n",
    "F.softmax(-torch.zeros(10)*torch.inf)"
   ]
  },
  {
   "cell_type": "code",
   "execution_count": 52,
   "metadata": {},
   "outputs": [
    {
     "data": {
      "text/plain": [
       "tensor([4.3857e-05, 6.3669e-01, 1.1828e-05, 4.5202e-05, 4.9879e-04, 1.3885e-02,\n",
       "        3.3762e-01, 3.7543e-03, 5.3268e-03, 2.1297e-03])"
      ]
     },
     "execution_count": 52,
     "metadata": {},
     "output_type": "execute_result"
    }
   ],
   "source": [
    "a = torch.randn(10)*3\n",
    "F.softmax(a, dim=-1)"
   ]
  },
  {
   "cell_type": "code",
   "execution_count": 55,
   "metadata": {},
   "outputs": [
    {
     "data": {
      "text/plain": [
       "tensor([4.3858e-05, 6.3670e-01, 0.0000e+00, 4.5203e-05, 4.9880e-04, 1.3885e-02,\n",
       "        3.3762e-01, 3.7544e-03, 5.3269e-03, 2.1297e-03])"
      ]
     },
     "execution_count": 55,
     "metadata": {},
     "output_type": "execute_result"
    }
   ],
   "source": [
    "a[2] = -torch.inf\n",
    "F.softmax(a, dim=-1)"
   ]
  },
  {
   "cell_type": "code",
   "execution_count": 60,
   "metadata": {},
   "outputs": [
    {
     "data": {
      "text/plain": [
       "tensor([4.3858e-05, 6.3670e-01, 0.0000e+00, 4.5203e-05, 4.9880e-04, 1.3885e-02,\n",
       "        3.3762e-01, 3.7544e-03, 5.3269e-03, 2.1297e-03])"
      ]
     },
     "execution_count": 60,
     "metadata": {},
     "output_type": "execute_result"
    }
   ],
   "source": [
    "a[2] = -100\n",
    "F.softmax(a, dim=-1)"
   ]
  },
  {
   "cell_type": "code",
   "execution_count": 16,
   "metadata": {},
   "outputs": [
    {
     "data": {
      "text/plain": [
       "array([[0.10068794, 0.10119697, 0.10124578, 0.10081513, 0.10007394,\n",
       "        0.0993086 , 0.09880906, 0.09876143, 0.0991833 , 0.0999179 ,\n",
       "        0.        , 0.        , 0.        , 0.        , 0.        ,\n",
       "        0.        , 0.        , 0.        , 0.        ],\n",
       "       [0.10150456, 0.10044084, 0.09921766, 0.09830014, 0.09802727,\n",
       "        0.09849824, 0.09954139, 0.10076856, 0.10170913, 0.10199224,\n",
       "        0.        , 0.        , 0.        , 0.        , 0.        ,\n",
       "        0.        , 0.        , 0.        , 0.        ],\n",
       "       [0.10227735, 0.09984633, 0.09751504, 0.09614288, 0.09620982,\n",
       "        0.09769292, 0.1000715 , 0.10246392, 0.10392629, 0.10385397,\n",
       "        0.        , 0.        , 0.        , 0.        , 0.        ,\n",
       "        0.        , 0.        , 0.        , 0.        ],\n",
       "       [0.10272919, 0.09965762, 0.09678077, 0.09514558, 0.09530944,\n",
       "        0.09721774, 0.1002141 , 0.10319301, 0.10496649, 0.10478603,\n",
       "        0.        , 0.        , 0.        , 0.        , 0.        ,\n",
       "        0.        , 0.        , 0.        , 0.        ],\n",
       "       [0.1027014 , 0.09996278, 0.09729134, 0.09567036, 0.09566105,\n",
       "        0.09726656, 0.09993132, 0.10267526, 0.10441492, 0.10442507,\n",
       "        0.        , 0.        , 0.        , 0.        , 0.        ,\n",
       "        0.        , 0.        , 0.        , 0.        ],\n",
       "       [0.10219456, 0.10063849, 0.09885754, 0.09752741, 0.09713192,\n",
       "        0.09781145, 0.09932381, 0.10111316, 0.10249218, 0.10290951,\n",
       "        0.        , 0.        , 0.        , 0.        , 0.        ,\n",
       "        0.        , 0.        , 0.        , 0.        ],\n",
       "       [0.10138239, 0.10140612, 0.10088826, 0.10003252, 0.0991697 ,\n",
       "        0.09862591, 0.09860282, 0.09910896, 0.09995679, 0.10082646,\n",
       "        0.        , 0.        , 0.        , 0.        , 0.        ,\n",
       "        0.        , 0.        , 0.        , 0.        ],\n",
       "       [0.10057332, 0.10196627, 0.10260585, 0.10223329, 0.10099982,\n",
       "        0.09939636, 0.09803852, 0.0974274 , 0.09778245, 0.09897663,\n",
       "        0.        , 0.        , 0.        , 0.        , 0.        ,\n",
       "        0.        , 0.        , 0.        , 0.        ],\n",
       "       [0.10009459, 0.10212222, 0.10334675, 0.10326733, 0.10191691,\n",
       "        0.0998459 , 0.09786345, 0.0967039 , 0.09677827, 0.09806061,\n",
       "        0.        , 0.        , 0.        , 0.        , 0.        ,\n",
       "        0.        , 0.        , 0.        , 0.        ],\n",
       "       [0.10014204, 0.10183121, 0.10282534, 0.1027218 , 0.10156298,\n",
       "        0.09981609, 0.09816035, 0.09721132, 0.09730931, 0.09841959,\n",
       "        0.        , 0.        , 0.        , 0.        , 0.        ,\n",
       "        0.        , 0.        , 0.        , 0.        ],\n",
       "       [       nan,        nan,        nan,        nan,        nan,\n",
       "               nan,        nan,        nan,        nan,        nan,\n",
       "               nan,        nan,        nan,        nan,        nan,\n",
       "               nan,        nan,        nan,        nan],\n",
       "       [       nan,        nan,        nan,        nan,        nan,\n",
       "               nan,        nan,        nan,        nan,        nan,\n",
       "               nan,        nan,        nan,        nan,        nan,\n",
       "               nan,        nan,        nan,        nan],\n",
       "       [       nan,        nan,        nan,        nan,        nan,\n",
       "               nan,        nan,        nan,        nan,        nan,\n",
       "               nan,        nan,        nan,        nan,        nan,\n",
       "               nan,        nan,        nan,        nan],\n",
       "       [       nan,        nan,        nan,        nan,        nan,\n",
       "               nan,        nan,        nan,        nan,        nan,\n",
       "               nan,        nan,        nan,        nan,        nan,\n",
       "               nan,        nan,        nan,        nan],\n",
       "       [       nan,        nan,        nan,        nan,        nan,\n",
       "               nan,        nan,        nan,        nan,        nan,\n",
       "               nan,        nan,        nan,        nan,        nan,\n",
       "               nan,        nan,        nan,        nan],\n",
       "       [       nan,        nan,        nan,        nan,        nan,\n",
       "               nan,        nan,        nan,        nan,        nan,\n",
       "               nan,        nan,        nan,        nan,        nan,\n",
       "               nan,        nan,        nan,        nan],\n",
       "       [       nan,        nan,        nan,        nan,        nan,\n",
       "               nan,        nan,        nan,        nan,        nan,\n",
       "               nan,        nan,        nan,        nan,        nan,\n",
       "               nan,        nan,        nan,        nan],\n",
       "       [       nan,        nan,        nan,        nan,        nan,\n",
       "               nan,        nan,        nan,        nan,        nan,\n",
       "               nan,        nan,        nan,        nan,        nan,\n",
       "               nan,        nan,        nan,        nan],\n",
       "       [       nan,        nan,        nan,        nan,        nan,\n",
       "               nan,        nan,        nan,        nan,        nan,\n",
       "               nan,        nan,        nan,        nan,        nan,\n",
       "               nan,        nan,        nan,        nan]], dtype=float32)"
      ]
     },
     "execution_count": 16,
     "metadata": {},
     "output_type": "execute_result"
    }
   ],
   "source": [
    "attention_scores[0][0,2].detach().numpy()"
   ]
  },
  {
   "cell_type": "code",
   "execution_count": 17,
   "metadata": {},
   "outputs": [
    {
     "data": {
      "text/plain": [
       "tensor([[[1., 1., 1.,  ..., 0., 0., 0.],\n",
       "         [1., 1., 1.,  ..., 0., 0., 0.],\n",
       "         [1., 1., 1.,  ..., 0., 0., 0.],\n",
       "         ...,\n",
       "         [0., 0., 0.,  ..., 0., 0., 0.],\n",
       "         [0., 0., 0.,  ..., 0., 0., 0.],\n",
       "         [0., 0., 0.,  ..., 0., 0., 0.]],\n",
       "\n",
       "        [[1., 1., 1.,  ..., 0., 0., 0.],\n",
       "         [1., 1., 1.,  ..., 0., 0., 0.],\n",
       "         [1., 1., 1.,  ..., 0., 0., 0.],\n",
       "         ...,\n",
       "         [0., 0., 0.,  ..., 0., 0., 0.],\n",
       "         [0., 0., 0.,  ..., 0., 0., 0.],\n",
       "         [0., 0., 0.,  ..., 0., 0., 0.]],\n",
       "\n",
       "        [[1., 1., 1.,  ..., 0., 0., 0.],\n",
       "         [1., 1., 1.,  ..., 0., 0., 0.],\n",
       "         [1., 1., 1.,  ..., 0., 0., 0.],\n",
       "         ...,\n",
       "         [0., 0., 0.,  ..., 0., 0., 0.],\n",
       "         [0., 0., 0.,  ..., 0., 0., 0.],\n",
       "         [0., 0., 0.,  ..., 0., 0., 0.]],\n",
       "\n",
       "        ...,\n",
       "\n",
       "        [[1., 1., 1.,  ..., 1., 0., 0.],\n",
       "         [1., 1., 1.,  ..., 1., 0., 0.],\n",
       "         [1., 1., 1.,  ..., 1., 0., 0.],\n",
       "         ...,\n",
       "         [1., 1., 1.,  ..., 1., 0., 0.],\n",
       "         [0., 0., 0.,  ..., 0., 0., 0.],\n",
       "         [0., 0., 0.,  ..., 0., 0., 0.]],\n",
       "\n",
       "        [[1., 1., 1.,  ..., 1., 1., 0.],\n",
       "         [1., 1., 1.,  ..., 1., 1., 0.],\n",
       "         [1., 1., 1.,  ..., 1., 1., 0.],\n",
       "         ...,\n",
       "         [1., 1., 1.,  ..., 1., 1., 0.],\n",
       "         [1., 1., 1.,  ..., 1., 1., 0.],\n",
       "         [0., 0., 0.,  ..., 0., 0., 0.]],\n",
       "\n",
       "        [[1., 1., 1.,  ..., 1., 1., 1.],\n",
       "         [1., 1., 1.,  ..., 1., 1., 1.],\n",
       "         [1., 1., 1.,  ..., 1., 1., 1.],\n",
       "         ...,\n",
       "         [1., 1., 1.,  ..., 1., 1., 1.],\n",
       "         [1., 1., 1.,  ..., 1., 1., 1.],\n",
       "         [1., 1., 1.,  ..., 1., 1., 1.]]])"
      ]
     },
     "execution_count": 17,
     "metadata": {},
     "output_type": "execute_result"
    }
   ],
   "source": [
    "adj"
   ]
  },
  {
   "cell_type": "code",
   "execution_count": 73,
   "metadata": {},
   "outputs": [
    {
     "data": {
      "text/plain": [
       "tensor([[[[    -0.,     -0.,     -0.,  ..., -10000., -10000., -10000.],\n",
       "          [    -0.,     -0.,     -0.,  ..., -10000., -10000., -10000.],\n",
       "          [    -0.,     -0.,     -0.,  ..., -10000., -10000., -10000.],\n",
       "          ...,\n",
       "          [-10000., -10000., -10000.,  ..., -10000., -10000., -10000.],\n",
       "          [-10000., -10000., -10000.,  ..., -10000., -10000., -10000.],\n",
       "          [-10000., -10000., -10000.,  ..., -10000., -10000., -10000.]],\n",
       "\n",
       "         [[    -0.,     -0.,     -0.,  ..., -10000., -10000., -10000.],\n",
       "          [    -0.,     -0.,     -0.,  ..., -10000., -10000., -10000.],\n",
       "          [    -0.,     -0.,     -0.,  ..., -10000., -10000., -10000.],\n",
       "          ...,\n",
       "          [-10000., -10000., -10000.,  ..., -10000., -10000., -10000.],\n",
       "          [-10000., -10000., -10000.,  ..., -10000., -10000., -10000.],\n",
       "          [-10000., -10000., -10000.,  ..., -10000., -10000., -10000.]],\n",
       "\n",
       "         [[    -0.,     -0.,     -0.,  ..., -10000., -10000., -10000.],\n",
       "          [    -0.,     -0.,     -0.,  ..., -10000., -10000., -10000.],\n",
       "          [    -0.,     -0.,     -0.,  ..., -10000., -10000., -10000.],\n",
       "          ...,\n",
       "          [-10000., -10000., -10000.,  ..., -10000., -10000., -10000.],\n",
       "          [-10000., -10000., -10000.,  ..., -10000., -10000., -10000.],\n",
       "          [-10000., -10000., -10000.,  ..., -10000., -10000., -10000.]],\n",
       "\n",
       "         ...,\n",
       "\n",
       "         [[    -0.,     -0.,     -0.,  ..., -10000., -10000., -10000.],\n",
       "          [    -0.,     -0.,     -0.,  ..., -10000., -10000., -10000.],\n",
       "          [    -0.,     -0.,     -0.,  ..., -10000., -10000., -10000.],\n",
       "          ...,\n",
       "          [-10000., -10000., -10000.,  ..., -10000., -10000., -10000.],\n",
       "          [-10000., -10000., -10000.,  ..., -10000., -10000., -10000.],\n",
       "          [-10000., -10000., -10000.,  ..., -10000., -10000., -10000.]],\n",
       "\n",
       "         [[    -0.,     -0.,     -0.,  ..., -10000., -10000., -10000.],\n",
       "          [    -0.,     -0.,     -0.,  ..., -10000., -10000., -10000.],\n",
       "          [    -0.,     -0.,     -0.,  ..., -10000., -10000., -10000.],\n",
       "          ...,\n",
       "          [-10000., -10000., -10000.,  ..., -10000., -10000., -10000.],\n",
       "          [-10000., -10000., -10000.,  ..., -10000., -10000., -10000.],\n",
       "          [-10000., -10000., -10000.,  ..., -10000., -10000., -10000.]],\n",
       "\n",
       "         [[    -0.,     -0.,     -0.,  ..., -10000., -10000., -10000.],\n",
       "          [    -0.,     -0.,     -0.,  ..., -10000., -10000., -10000.],\n",
       "          [    -0.,     -0.,     -0.,  ..., -10000., -10000., -10000.],\n",
       "          ...,\n",
       "          [-10000., -10000., -10000.,  ..., -10000., -10000., -10000.],\n",
       "          [-10000., -10000., -10000.,  ..., -10000., -10000., -10000.],\n",
       "          [-10000., -10000., -10000.,  ..., -10000., -10000., -10000.]]],\n",
       "\n",
       "\n",
       "        [[[    -0.,     -0.,     -0.,  ..., -10000., -10000., -10000.],\n",
       "          [    -0.,     -0.,     -0.,  ..., -10000., -10000., -10000.],\n",
       "          [    -0.,     -0.,     -0.,  ..., -10000., -10000., -10000.],\n",
       "          ...,\n",
       "          [-10000., -10000., -10000.,  ..., -10000., -10000., -10000.],\n",
       "          [-10000., -10000., -10000.,  ..., -10000., -10000., -10000.],\n",
       "          [-10000., -10000., -10000.,  ..., -10000., -10000., -10000.]],\n",
       "\n",
       "         [[    -0.,     -0.,     -0.,  ..., -10000., -10000., -10000.],\n",
       "          [    -0.,     -0.,     -0.,  ..., -10000., -10000., -10000.],\n",
       "          [    -0.,     -0.,     -0.,  ..., -10000., -10000., -10000.],\n",
       "          ...,\n",
       "          [-10000., -10000., -10000.,  ..., -10000., -10000., -10000.],\n",
       "          [-10000., -10000., -10000.,  ..., -10000., -10000., -10000.],\n",
       "          [-10000., -10000., -10000.,  ..., -10000., -10000., -10000.]],\n",
       "\n",
       "         [[    -0.,     -0.,     -0.,  ..., -10000., -10000., -10000.],\n",
       "          [    -0.,     -0.,     -0.,  ..., -10000., -10000., -10000.],\n",
       "          [    -0.,     -0.,     -0.,  ..., -10000., -10000., -10000.],\n",
       "          ...,\n",
       "          [-10000., -10000., -10000.,  ..., -10000., -10000., -10000.],\n",
       "          [-10000., -10000., -10000.,  ..., -10000., -10000., -10000.],\n",
       "          [-10000., -10000., -10000.,  ..., -10000., -10000., -10000.]],\n",
       "\n",
       "         ...,\n",
       "\n",
       "         [[    -0.,     -0.,     -0.,  ..., -10000., -10000., -10000.],\n",
       "          [    -0.,     -0.,     -0.,  ..., -10000., -10000., -10000.],\n",
       "          [    -0.,     -0.,     -0.,  ..., -10000., -10000., -10000.],\n",
       "          ...,\n",
       "          [-10000., -10000., -10000.,  ..., -10000., -10000., -10000.],\n",
       "          [-10000., -10000., -10000.,  ..., -10000., -10000., -10000.],\n",
       "          [-10000., -10000., -10000.,  ..., -10000., -10000., -10000.]],\n",
       "\n",
       "         [[    -0.,     -0.,     -0.,  ..., -10000., -10000., -10000.],\n",
       "          [    -0.,     -0.,     -0.,  ..., -10000., -10000., -10000.],\n",
       "          [    -0.,     -0.,     -0.,  ..., -10000., -10000., -10000.],\n",
       "          ...,\n",
       "          [-10000., -10000., -10000.,  ..., -10000., -10000., -10000.],\n",
       "          [-10000., -10000., -10000.,  ..., -10000., -10000., -10000.],\n",
       "          [-10000., -10000., -10000.,  ..., -10000., -10000., -10000.]],\n",
       "\n",
       "         [[    -0.,     -0.,     -0.,  ..., -10000., -10000., -10000.],\n",
       "          [    -0.,     -0.,     -0.,  ..., -10000., -10000., -10000.],\n",
       "          [    -0.,     -0.,     -0.,  ..., -10000., -10000., -10000.],\n",
       "          ...,\n",
       "          [-10000., -10000., -10000.,  ..., -10000., -10000., -10000.],\n",
       "          [-10000., -10000., -10000.,  ..., -10000., -10000., -10000.],\n",
       "          [-10000., -10000., -10000.,  ..., -10000., -10000., -10000.]]],\n",
       "\n",
       "\n",
       "        [[[    -0.,     -0.,     -0.,  ..., -10000., -10000., -10000.],\n",
       "          [    -0.,     -0.,     -0.,  ..., -10000., -10000., -10000.],\n",
       "          [    -0.,     -0.,     -0.,  ..., -10000., -10000., -10000.],\n",
       "          ...,\n",
       "          [-10000., -10000., -10000.,  ..., -10000., -10000., -10000.],\n",
       "          [-10000., -10000., -10000.,  ..., -10000., -10000., -10000.],\n",
       "          [-10000., -10000., -10000.,  ..., -10000., -10000., -10000.]],\n",
       "\n",
       "         [[    -0.,     -0.,     -0.,  ..., -10000., -10000., -10000.],\n",
       "          [    -0.,     -0.,     -0.,  ..., -10000., -10000., -10000.],\n",
       "          [    -0.,     -0.,     -0.,  ..., -10000., -10000., -10000.],\n",
       "          ...,\n",
       "          [-10000., -10000., -10000.,  ..., -10000., -10000., -10000.],\n",
       "          [-10000., -10000., -10000.,  ..., -10000., -10000., -10000.],\n",
       "          [-10000., -10000., -10000.,  ..., -10000., -10000., -10000.]],\n",
       "\n",
       "         [[    -0.,     -0.,     -0.,  ..., -10000., -10000., -10000.],\n",
       "          [    -0.,     -0.,     -0.,  ..., -10000., -10000., -10000.],\n",
       "          [    -0.,     -0.,     -0.,  ..., -10000., -10000., -10000.],\n",
       "          ...,\n",
       "          [-10000., -10000., -10000.,  ..., -10000., -10000., -10000.],\n",
       "          [-10000., -10000., -10000.,  ..., -10000., -10000., -10000.],\n",
       "          [-10000., -10000., -10000.,  ..., -10000., -10000., -10000.]],\n",
       "\n",
       "         ...,\n",
       "\n",
       "         [[    -0.,     -0.,     -0.,  ..., -10000., -10000., -10000.],\n",
       "          [    -0.,     -0.,     -0.,  ..., -10000., -10000., -10000.],\n",
       "          [    -0.,     -0.,     -0.,  ..., -10000., -10000., -10000.],\n",
       "          ...,\n",
       "          [-10000., -10000., -10000.,  ..., -10000., -10000., -10000.],\n",
       "          [-10000., -10000., -10000.,  ..., -10000., -10000., -10000.],\n",
       "          [-10000., -10000., -10000.,  ..., -10000., -10000., -10000.]],\n",
       "\n",
       "         [[    -0.,     -0.,     -0.,  ..., -10000., -10000., -10000.],\n",
       "          [    -0.,     -0.,     -0.,  ..., -10000., -10000., -10000.],\n",
       "          [    -0.,     -0.,     -0.,  ..., -10000., -10000., -10000.],\n",
       "          ...,\n",
       "          [-10000., -10000., -10000.,  ..., -10000., -10000., -10000.],\n",
       "          [-10000., -10000., -10000.,  ..., -10000., -10000., -10000.],\n",
       "          [-10000., -10000., -10000.,  ..., -10000., -10000., -10000.]],\n",
       "\n",
       "         [[    -0.,     -0.,     -0.,  ..., -10000., -10000., -10000.],\n",
       "          [    -0.,     -0.,     -0.,  ..., -10000., -10000., -10000.],\n",
       "          [    -0.,     -0.,     -0.,  ..., -10000., -10000., -10000.],\n",
       "          ...,\n",
       "          [-10000., -10000., -10000.,  ..., -10000., -10000., -10000.],\n",
       "          [-10000., -10000., -10000.,  ..., -10000., -10000., -10000.],\n",
       "          [-10000., -10000., -10000.,  ..., -10000., -10000., -10000.]]],\n",
       "\n",
       "\n",
       "        ...,\n",
       "\n",
       "\n",
       "        [[[    -0.,     -0.,     -0.,  ...,     -0., -10000., -10000.],\n",
       "          [    -0.,     -0.,     -0.,  ...,     -0., -10000., -10000.],\n",
       "          [    -0.,     -0.,     -0.,  ...,     -0., -10000., -10000.],\n",
       "          ...,\n",
       "          [    -0.,     -0.,     -0.,  ...,     -0., -10000., -10000.],\n",
       "          [-10000., -10000., -10000.,  ..., -10000., -10000., -10000.],\n",
       "          [-10000., -10000., -10000.,  ..., -10000., -10000., -10000.]],\n",
       "\n",
       "         [[    -0.,     -0.,     -0.,  ...,     -0., -10000., -10000.],\n",
       "          [    -0.,     -0.,     -0.,  ...,     -0., -10000., -10000.],\n",
       "          [    -0.,     -0.,     -0.,  ...,     -0., -10000., -10000.],\n",
       "          ...,\n",
       "          [    -0.,     -0.,     -0.,  ...,     -0., -10000., -10000.],\n",
       "          [-10000., -10000., -10000.,  ..., -10000., -10000., -10000.],\n",
       "          [-10000., -10000., -10000.,  ..., -10000., -10000., -10000.]],\n",
       "\n",
       "         [[    -0.,     -0.,     -0.,  ...,     -0., -10000., -10000.],\n",
       "          [    -0.,     -0.,     -0.,  ...,     -0., -10000., -10000.],\n",
       "          [    -0.,     -0.,     -0.,  ...,     -0., -10000., -10000.],\n",
       "          ...,\n",
       "          [    -0.,     -0.,     -0.,  ...,     -0., -10000., -10000.],\n",
       "          [-10000., -10000., -10000.,  ..., -10000., -10000., -10000.],\n",
       "          [-10000., -10000., -10000.,  ..., -10000., -10000., -10000.]],\n",
       "\n",
       "         ...,\n",
       "\n",
       "         [[    -0.,     -0.,     -0.,  ...,     -0., -10000., -10000.],\n",
       "          [    -0.,     -0.,     -0.,  ...,     -0., -10000., -10000.],\n",
       "          [    -0.,     -0.,     -0.,  ...,     -0., -10000., -10000.],\n",
       "          ...,\n",
       "          [    -0.,     -0.,     -0.,  ...,     -0., -10000., -10000.],\n",
       "          [-10000., -10000., -10000.,  ..., -10000., -10000., -10000.],\n",
       "          [-10000., -10000., -10000.,  ..., -10000., -10000., -10000.]],\n",
       "\n",
       "         [[    -0.,     -0.,     -0.,  ...,     -0., -10000., -10000.],\n",
       "          [    -0.,     -0.,     -0.,  ...,     -0., -10000., -10000.],\n",
       "          [    -0.,     -0.,     -0.,  ...,     -0., -10000., -10000.],\n",
       "          ...,\n",
       "          [    -0.,     -0.,     -0.,  ...,     -0., -10000., -10000.],\n",
       "          [-10000., -10000., -10000.,  ..., -10000., -10000., -10000.],\n",
       "          [-10000., -10000., -10000.,  ..., -10000., -10000., -10000.]],\n",
       "\n",
       "         [[    -0.,     -0.,     -0.,  ...,     -0., -10000., -10000.],\n",
       "          [    -0.,     -0.,     -0.,  ...,     -0., -10000., -10000.],\n",
       "          [    -0.,     -0.,     -0.,  ...,     -0., -10000., -10000.],\n",
       "          ...,\n",
       "          [    -0.,     -0.,     -0.,  ...,     -0., -10000., -10000.],\n",
       "          [-10000., -10000., -10000.,  ..., -10000., -10000., -10000.],\n",
       "          [-10000., -10000., -10000.,  ..., -10000., -10000., -10000.]]],\n",
       "\n",
       "\n",
       "        [[[    -0.,     -0.,     -0.,  ...,     -0.,     -0., -10000.],\n",
       "          [    -0.,     -0.,     -0.,  ...,     -0.,     -0., -10000.],\n",
       "          [    -0.,     -0.,     -0.,  ...,     -0.,     -0., -10000.],\n",
       "          ...,\n",
       "          [    -0.,     -0.,     -0.,  ...,     -0.,     -0., -10000.],\n",
       "          [    -0.,     -0.,     -0.,  ...,     -0.,     -0., -10000.],\n",
       "          [-10000., -10000., -10000.,  ..., -10000., -10000., -10000.]],\n",
       "\n",
       "         [[    -0.,     -0.,     -0.,  ...,     -0.,     -0., -10000.],\n",
       "          [    -0.,     -0.,     -0.,  ...,     -0.,     -0., -10000.],\n",
       "          [    -0.,     -0.,     -0.,  ...,     -0.,     -0., -10000.],\n",
       "          ...,\n",
       "          [    -0.,     -0.,     -0.,  ...,     -0.,     -0., -10000.],\n",
       "          [    -0.,     -0.,     -0.,  ...,     -0.,     -0., -10000.],\n",
       "          [-10000., -10000., -10000.,  ..., -10000., -10000., -10000.]],\n",
       "\n",
       "         [[    -0.,     -0.,     -0.,  ...,     -0.,     -0., -10000.],\n",
       "          [    -0.,     -0.,     -0.,  ...,     -0.,     -0., -10000.],\n",
       "          [    -0.,     -0.,     -0.,  ...,     -0.,     -0., -10000.],\n",
       "          ...,\n",
       "          [    -0.,     -0.,     -0.,  ...,     -0.,     -0., -10000.],\n",
       "          [    -0.,     -0.,     -0.,  ...,     -0.,     -0., -10000.],\n",
       "          [-10000., -10000., -10000.,  ..., -10000., -10000., -10000.]],\n",
       "\n",
       "         ...,\n",
       "\n",
       "         [[    -0.,     -0.,     -0.,  ...,     -0.,     -0., -10000.],\n",
       "          [    -0.,     -0.,     -0.,  ...,     -0.,     -0., -10000.],\n",
       "          [    -0.,     -0.,     -0.,  ...,     -0.,     -0., -10000.],\n",
       "          ...,\n",
       "          [    -0.,     -0.,     -0.,  ...,     -0.,     -0., -10000.],\n",
       "          [    -0.,     -0.,     -0.,  ...,     -0.,     -0., -10000.],\n",
       "          [-10000., -10000., -10000.,  ..., -10000., -10000., -10000.]],\n",
       "\n",
       "         [[    -0.,     -0.,     -0.,  ...,     -0.,     -0., -10000.],\n",
       "          [    -0.,     -0.,     -0.,  ...,     -0.,     -0., -10000.],\n",
       "          [    -0.,     -0.,     -0.,  ...,     -0.,     -0., -10000.],\n",
       "          ...,\n",
       "          [    -0.,     -0.,     -0.,  ...,     -0.,     -0., -10000.],\n",
       "          [    -0.,     -0.,     -0.,  ...,     -0.,     -0., -10000.],\n",
       "          [-10000., -10000., -10000.,  ..., -10000., -10000., -10000.]],\n",
       "\n",
       "         [[    -0.,     -0.,     -0.,  ...,     -0.,     -0., -10000.],\n",
       "          [    -0.,     -0.,     -0.,  ...,     -0.,     -0., -10000.],\n",
       "          [    -0.,     -0.,     -0.,  ...,     -0.,     -0., -10000.],\n",
       "          ...,\n",
       "          [    -0.,     -0.,     -0.,  ...,     -0.,     -0., -10000.],\n",
       "          [    -0.,     -0.,     -0.,  ...,     -0.,     -0., -10000.],\n",
       "          [-10000., -10000., -10000.,  ..., -10000., -10000., -10000.]]],\n",
       "\n",
       "\n",
       "        [[[    -0.,     -0.,     -0.,  ...,     -0.,     -0.,     -0.],\n",
       "          [    -0.,     -0.,     -0.,  ...,     -0.,     -0.,     -0.],\n",
       "          [    -0.,     -0.,     -0.,  ...,     -0.,     -0.,     -0.],\n",
       "          ...,\n",
       "          [    -0.,     -0.,     -0.,  ...,     -0.,     -0.,     -0.],\n",
       "          [    -0.,     -0.,     -0.,  ...,     -0.,     -0.,     -0.],\n",
       "          [    -0.,     -0.,     -0.,  ...,     -0.,     -0.,     -0.]],\n",
       "\n",
       "         [[    -0.,     -0.,     -0.,  ...,     -0.,     -0.,     -0.],\n",
       "          [    -0.,     -0.,     -0.,  ...,     -0.,     -0.,     -0.],\n",
       "          [    -0.,     -0.,     -0.,  ...,     -0.,     -0.,     -0.],\n",
       "          ...,\n",
       "          [    -0.,     -0.,     -0.,  ...,     -0.,     -0.,     -0.],\n",
       "          [    -0.,     -0.,     -0.,  ...,     -0.,     -0.,     -0.],\n",
       "          [    -0.,     -0.,     -0.,  ...,     -0.,     -0.,     -0.]],\n",
       "\n",
       "         [[    -0.,     -0.,     -0.,  ...,     -0.,     -0.,     -0.],\n",
       "          [    -0.,     -0.,     -0.,  ...,     -0.,     -0.,     -0.],\n",
       "          [    -0.,     -0.,     -0.,  ...,     -0.,     -0.,     -0.],\n",
       "          ...,\n",
       "          [    -0.,     -0.,     -0.,  ...,     -0.,     -0.,     -0.],\n",
       "          [    -0.,     -0.,     -0.,  ...,     -0.,     -0.,     -0.],\n",
       "          [    -0.,     -0.,     -0.,  ...,     -0.,     -0.,     -0.]],\n",
       "\n",
       "         ...,\n",
       "\n",
       "         [[    -0.,     -0.,     -0.,  ...,     -0.,     -0.,     -0.],\n",
       "          [    -0.,     -0.,     -0.,  ...,     -0.,     -0.,     -0.],\n",
       "          [    -0.,     -0.,     -0.,  ...,     -0.,     -0.,     -0.],\n",
       "          ...,\n",
       "          [    -0.,     -0.,     -0.,  ...,     -0.,     -0.,     -0.],\n",
       "          [    -0.,     -0.,     -0.,  ...,     -0.,     -0.,     -0.],\n",
       "          [    -0.,     -0.,     -0.,  ...,     -0.,     -0.,     -0.]],\n",
       "\n",
       "         [[    -0.,     -0.,     -0.,  ...,     -0.,     -0.,     -0.],\n",
       "          [    -0.,     -0.,     -0.,  ...,     -0.,     -0.,     -0.],\n",
       "          [    -0.,     -0.,     -0.,  ...,     -0.,     -0.,     -0.],\n",
       "          ...,\n",
       "          [    -0.,     -0.,     -0.,  ...,     -0.,     -0.,     -0.],\n",
       "          [    -0.,     -0.,     -0.,  ...,     -0.,     -0.,     -0.],\n",
       "          [    -0.,     -0.,     -0.,  ...,     -0.,     -0.,     -0.]],\n",
       "\n",
       "         [[    -0.,     -0.,     -0.,  ...,     -0.,     -0.,     -0.],\n",
       "          [    -0.,     -0.,     -0.,  ...,     -0.,     -0.,     -0.],\n",
       "          [    -0.,     -0.,     -0.,  ...,     -0.,     -0.,     -0.],\n",
       "          ...,\n",
       "          [    -0.,     -0.,     -0.,  ...,     -0.,     -0.,     -0.],\n",
       "          [    -0.,     -0.,     -0.,  ...,     -0.,     -0.,     -0.],\n",
       "          [    -0.,     -0.,     -0.,  ...,     -0.,     -0.,     -0.]]]])"
      ]
     },
     "execution_count": 73,
     "metadata": {},
     "output_type": "execute_result"
    }
   ],
   "source": [
    "g = batch\n",
    "adj = torch_geometric.utils.to_dense_adj(g.edge_index, g.batch)\n",
    "\n",
    "adj_mask = (1.0-adj).unsqueeze(1).repeat(1, 8, 1, 1)*(-10000)\n",
    "\n",
    "adj_mask"
   ]
  },
  {
   "cell_type": "code",
   "execution_count": 76,
   "metadata": {},
   "outputs": [
    {
     "data": {
      "text/plain": [
       "tensor([[[[0.1000, 0.1000, 0.1000,  ..., 0.0000, 0.0000, 0.0000],\n",
       "          [0.1000, 0.1000, 0.1000,  ..., 0.0000, 0.0000, 0.0000],\n",
       "          [0.1000, 0.1000, 0.1000,  ..., 0.0000, 0.0000, 0.0000],\n",
       "          ...,\n",
       "          [0.0000, 0.0000, 0.0000,  ..., 0.0000, 0.0000, 0.0000],\n",
       "          [0.0000, 0.0000, 0.0000,  ..., 0.0000, 0.0000, 0.0000],\n",
       "          [0.0000, 0.0000, 0.0000,  ..., 0.0000, 0.0000, 0.0000]],\n",
       "\n",
       "         [[0.1000, 0.1000, 0.1000,  ..., 0.0000, 0.0000, 0.0000],\n",
       "          [0.1000, 0.1000, 0.1000,  ..., 0.0000, 0.0000, 0.0000],\n",
       "          [0.1000, 0.1000, 0.1000,  ..., 0.0000, 0.0000, 0.0000],\n",
       "          ...,\n",
       "          [0.0000, 0.0000, 0.0000,  ..., 0.0000, 0.0000, 0.0000],\n",
       "          [0.0000, 0.0000, 0.0000,  ..., 0.0000, 0.0000, 0.0000],\n",
       "          [0.0000, 0.0000, 0.0000,  ..., 0.0000, 0.0000, 0.0000]],\n",
       "\n",
       "         [[0.1000, 0.1000, 0.1000,  ..., 0.0000, 0.0000, 0.0000],\n",
       "          [0.1000, 0.1000, 0.1000,  ..., 0.0000, 0.0000, 0.0000],\n",
       "          [0.1000, 0.1000, 0.1000,  ..., 0.0000, 0.0000, 0.0000],\n",
       "          ...,\n",
       "          [0.0000, 0.0000, 0.0000,  ..., 0.0000, 0.0000, 0.0000],\n",
       "          [0.0000, 0.0000, 0.0000,  ..., 0.0000, 0.0000, 0.0000],\n",
       "          [0.0000, 0.0000, 0.0000,  ..., 0.0000, 0.0000, 0.0000]],\n",
       "\n",
       "         ...,\n",
       "\n",
       "         [[0.1000, 0.1000, 0.1000,  ..., 0.0000, 0.0000, 0.0000],\n",
       "          [0.1000, 0.1000, 0.1000,  ..., 0.0000, 0.0000, 0.0000],\n",
       "          [0.1000, 0.1000, 0.1000,  ..., 0.0000, 0.0000, 0.0000],\n",
       "          ...,\n",
       "          [0.0000, 0.0000, 0.0000,  ..., 0.0000, 0.0000, 0.0000],\n",
       "          [0.0000, 0.0000, 0.0000,  ..., 0.0000, 0.0000, 0.0000],\n",
       "          [0.0000, 0.0000, 0.0000,  ..., 0.0000, 0.0000, 0.0000]],\n",
       "\n",
       "         [[0.1000, 0.1000, 0.1000,  ..., 0.0000, 0.0000, 0.0000],\n",
       "          [0.1000, 0.1000, 0.1000,  ..., 0.0000, 0.0000, 0.0000],\n",
       "          [0.1000, 0.1000, 0.1000,  ..., 0.0000, 0.0000, 0.0000],\n",
       "          ...,\n",
       "          [0.0000, 0.0000, 0.0000,  ..., 0.0000, 0.0000, 0.0000],\n",
       "          [0.0000, 0.0000, 0.0000,  ..., 0.0000, 0.0000, 0.0000],\n",
       "          [0.0000, 0.0000, 0.0000,  ..., 0.0000, 0.0000, 0.0000]],\n",
       "\n",
       "         [[0.1000, 0.1000, 0.1000,  ..., 0.0000, 0.0000, 0.0000],\n",
       "          [0.1000, 0.1000, 0.1000,  ..., 0.0000, 0.0000, 0.0000],\n",
       "          [0.1000, 0.1000, 0.1000,  ..., 0.0000, 0.0000, 0.0000],\n",
       "          ...,\n",
       "          [0.0000, 0.0000, 0.0000,  ..., 0.0000, 0.0000, 0.0000],\n",
       "          [0.0000, 0.0000, 0.0000,  ..., 0.0000, 0.0000, 0.0000],\n",
       "          [0.0000, 0.0000, 0.0000,  ..., 0.0000, 0.0000, 0.0000]]],\n",
       "\n",
       "\n",
       "        [[[0.0909, 0.0909, 0.0909,  ..., 0.0000, 0.0000, 0.0000],\n",
       "          [0.0909, 0.0909, 0.0909,  ..., 0.0000, 0.0000, 0.0000],\n",
       "          [0.0909, 0.0909, 0.0909,  ..., 0.0000, 0.0000, 0.0000],\n",
       "          ...,\n",
       "          [0.0000, 0.0000, 0.0000,  ..., 0.0000, 0.0000, 0.0000],\n",
       "          [0.0000, 0.0000, 0.0000,  ..., 0.0000, 0.0000, 0.0000],\n",
       "          [0.0000, 0.0000, 0.0000,  ..., 0.0000, 0.0000, 0.0000]],\n",
       "\n",
       "         [[0.0909, 0.0909, 0.0909,  ..., 0.0000, 0.0000, 0.0000],\n",
       "          [0.0909, 0.0909, 0.0909,  ..., 0.0000, 0.0000, 0.0000],\n",
       "          [0.0909, 0.0909, 0.0909,  ..., 0.0000, 0.0000, 0.0000],\n",
       "          ...,\n",
       "          [0.0000, 0.0000, 0.0000,  ..., 0.0000, 0.0000, 0.0000],\n",
       "          [0.0000, 0.0000, 0.0000,  ..., 0.0000, 0.0000, 0.0000],\n",
       "          [0.0000, 0.0000, 0.0000,  ..., 0.0000, 0.0000, 0.0000]],\n",
       "\n",
       "         [[0.0909, 0.0909, 0.0909,  ..., 0.0000, 0.0000, 0.0000],\n",
       "          [0.0909, 0.0909, 0.0909,  ..., 0.0000, 0.0000, 0.0000],\n",
       "          [0.0909, 0.0909, 0.0909,  ..., 0.0000, 0.0000, 0.0000],\n",
       "          ...,\n",
       "          [0.0000, 0.0000, 0.0000,  ..., 0.0000, 0.0000, 0.0000],\n",
       "          [0.0000, 0.0000, 0.0000,  ..., 0.0000, 0.0000, 0.0000],\n",
       "          [0.0000, 0.0000, 0.0000,  ..., 0.0000, 0.0000, 0.0000]],\n",
       "\n",
       "         ...,\n",
       "\n",
       "         [[0.0909, 0.0909, 0.0909,  ..., 0.0000, 0.0000, 0.0000],\n",
       "          [0.0909, 0.0909, 0.0909,  ..., 0.0000, 0.0000, 0.0000],\n",
       "          [0.0909, 0.0909, 0.0909,  ..., 0.0000, 0.0000, 0.0000],\n",
       "          ...,\n",
       "          [0.0000, 0.0000, 0.0000,  ..., 0.0000, 0.0000, 0.0000],\n",
       "          [0.0000, 0.0000, 0.0000,  ..., 0.0000, 0.0000, 0.0000],\n",
       "          [0.0000, 0.0000, 0.0000,  ..., 0.0000, 0.0000, 0.0000]],\n",
       "\n",
       "         [[0.0909, 0.0909, 0.0909,  ..., 0.0000, 0.0000, 0.0000],\n",
       "          [0.0909, 0.0909, 0.0909,  ..., 0.0000, 0.0000, 0.0000],\n",
       "          [0.0909, 0.0909, 0.0909,  ..., 0.0000, 0.0000, 0.0000],\n",
       "          ...,\n",
       "          [0.0000, 0.0000, 0.0000,  ..., 0.0000, 0.0000, 0.0000],\n",
       "          [0.0000, 0.0000, 0.0000,  ..., 0.0000, 0.0000, 0.0000],\n",
       "          [0.0000, 0.0000, 0.0000,  ..., 0.0000, 0.0000, 0.0000]],\n",
       "\n",
       "         [[0.0909, 0.0909, 0.0909,  ..., 0.0000, 0.0000, 0.0000],\n",
       "          [0.0909, 0.0909, 0.0909,  ..., 0.0000, 0.0000, 0.0000],\n",
       "          [0.0909, 0.0909, 0.0909,  ..., 0.0000, 0.0000, 0.0000],\n",
       "          ...,\n",
       "          [0.0000, 0.0000, 0.0000,  ..., 0.0000, 0.0000, 0.0000],\n",
       "          [0.0000, 0.0000, 0.0000,  ..., 0.0000, 0.0000, 0.0000],\n",
       "          [0.0000, 0.0000, 0.0000,  ..., 0.0000, 0.0000, 0.0000]]],\n",
       "\n",
       "\n",
       "        [[[0.0833, 0.0833, 0.0833,  ..., 0.0000, 0.0000, 0.0000],\n",
       "          [0.0833, 0.0833, 0.0833,  ..., 0.0000, 0.0000, 0.0000],\n",
       "          [0.0833, 0.0833, 0.0833,  ..., 0.0000, 0.0000, 0.0000],\n",
       "          ...,\n",
       "          [0.0000, 0.0000, 0.0000,  ..., 0.0000, 0.0000, 0.0000],\n",
       "          [0.0000, 0.0000, 0.0000,  ..., 0.0000, 0.0000, 0.0000],\n",
       "          [0.0000, 0.0000, 0.0000,  ..., 0.0000, 0.0000, 0.0000]],\n",
       "\n",
       "         [[0.0833, 0.0833, 0.0833,  ..., 0.0000, 0.0000, 0.0000],\n",
       "          [0.0833, 0.0833, 0.0833,  ..., 0.0000, 0.0000, 0.0000],\n",
       "          [0.0833, 0.0833, 0.0833,  ..., 0.0000, 0.0000, 0.0000],\n",
       "          ...,\n",
       "          [0.0000, 0.0000, 0.0000,  ..., 0.0000, 0.0000, 0.0000],\n",
       "          [0.0000, 0.0000, 0.0000,  ..., 0.0000, 0.0000, 0.0000],\n",
       "          [0.0000, 0.0000, 0.0000,  ..., 0.0000, 0.0000, 0.0000]],\n",
       "\n",
       "         [[0.0833, 0.0833, 0.0833,  ..., 0.0000, 0.0000, 0.0000],\n",
       "          [0.0833, 0.0833, 0.0833,  ..., 0.0000, 0.0000, 0.0000],\n",
       "          [0.0833, 0.0833, 0.0833,  ..., 0.0000, 0.0000, 0.0000],\n",
       "          ...,\n",
       "          [0.0000, 0.0000, 0.0000,  ..., 0.0000, 0.0000, 0.0000],\n",
       "          [0.0000, 0.0000, 0.0000,  ..., 0.0000, 0.0000, 0.0000],\n",
       "          [0.0000, 0.0000, 0.0000,  ..., 0.0000, 0.0000, 0.0000]],\n",
       "\n",
       "         ...,\n",
       "\n",
       "         [[0.0833, 0.0833, 0.0833,  ..., 0.0000, 0.0000, 0.0000],\n",
       "          [0.0833, 0.0833, 0.0833,  ..., 0.0000, 0.0000, 0.0000],\n",
       "          [0.0833, 0.0833, 0.0833,  ..., 0.0000, 0.0000, 0.0000],\n",
       "          ...,\n",
       "          [0.0000, 0.0000, 0.0000,  ..., 0.0000, 0.0000, 0.0000],\n",
       "          [0.0000, 0.0000, 0.0000,  ..., 0.0000, 0.0000, 0.0000],\n",
       "          [0.0000, 0.0000, 0.0000,  ..., 0.0000, 0.0000, 0.0000]],\n",
       "\n",
       "         [[0.0833, 0.0833, 0.0833,  ..., 0.0000, 0.0000, 0.0000],\n",
       "          [0.0833, 0.0833, 0.0833,  ..., 0.0000, 0.0000, 0.0000],\n",
       "          [0.0833, 0.0833, 0.0833,  ..., 0.0000, 0.0000, 0.0000],\n",
       "          ...,\n",
       "          [0.0000, 0.0000, 0.0000,  ..., 0.0000, 0.0000, 0.0000],\n",
       "          [0.0000, 0.0000, 0.0000,  ..., 0.0000, 0.0000, 0.0000],\n",
       "          [0.0000, 0.0000, 0.0000,  ..., 0.0000, 0.0000, 0.0000]],\n",
       "\n",
       "         [[0.0833, 0.0833, 0.0833,  ..., 0.0000, 0.0000, 0.0000],\n",
       "          [0.0833, 0.0833, 0.0833,  ..., 0.0000, 0.0000, 0.0000],\n",
       "          [0.0833, 0.0833, 0.0833,  ..., 0.0000, 0.0000, 0.0000],\n",
       "          ...,\n",
       "          [0.0000, 0.0000, 0.0000,  ..., 0.0000, 0.0000, 0.0000],\n",
       "          [0.0000, 0.0000, 0.0000,  ..., 0.0000, 0.0000, 0.0000],\n",
       "          [0.0000, 0.0000, 0.0000,  ..., 0.0000, 0.0000, 0.0000]]],\n",
       "\n",
       "\n",
       "        ...,\n",
       "\n",
       "\n",
       "        [[[0.0588, 0.0588, 0.0588,  ..., 0.0588, 0.0000, 0.0000],\n",
       "          [0.0588, 0.0588, 0.0588,  ..., 0.0588, 0.0000, 0.0000],\n",
       "          [0.0588, 0.0588, 0.0588,  ..., 0.0588, 0.0000, 0.0000],\n",
       "          ...,\n",
       "          [0.0588, 0.0588, 0.0588,  ..., 0.0588, 0.0000, 0.0000],\n",
       "          [0.0000, 0.0000, 0.0000,  ..., 0.0000, 0.0000, 0.0000],\n",
       "          [0.0000, 0.0000, 0.0000,  ..., 0.0000, 0.0000, 0.0000]],\n",
       "\n",
       "         [[0.0588, 0.0588, 0.0588,  ..., 0.0588, 0.0000, 0.0000],\n",
       "          [0.0588, 0.0588, 0.0588,  ..., 0.0588, 0.0000, 0.0000],\n",
       "          [0.0588, 0.0588, 0.0588,  ..., 0.0588, 0.0000, 0.0000],\n",
       "          ...,\n",
       "          [0.0588, 0.0588, 0.0588,  ..., 0.0588, 0.0000, 0.0000],\n",
       "          [0.0000, 0.0000, 0.0000,  ..., 0.0000, 0.0000, 0.0000],\n",
       "          [0.0000, 0.0000, 0.0000,  ..., 0.0000, 0.0000, 0.0000]],\n",
       "\n",
       "         [[0.0588, 0.0588, 0.0588,  ..., 0.0588, 0.0000, 0.0000],\n",
       "          [0.0588, 0.0588, 0.0588,  ..., 0.0588, 0.0000, 0.0000],\n",
       "          [0.0588, 0.0588, 0.0588,  ..., 0.0588, 0.0000, 0.0000],\n",
       "          ...,\n",
       "          [0.0588, 0.0588, 0.0588,  ..., 0.0588, 0.0000, 0.0000],\n",
       "          [0.0000, 0.0000, 0.0000,  ..., 0.0000, 0.0000, 0.0000],\n",
       "          [0.0000, 0.0000, 0.0000,  ..., 0.0000, 0.0000, 0.0000]],\n",
       "\n",
       "         ...,\n",
       "\n",
       "         [[0.0588, 0.0588, 0.0588,  ..., 0.0588, 0.0000, 0.0000],\n",
       "          [0.0588, 0.0588, 0.0588,  ..., 0.0588, 0.0000, 0.0000],\n",
       "          [0.0588, 0.0588, 0.0588,  ..., 0.0588, 0.0000, 0.0000],\n",
       "          ...,\n",
       "          [0.0588, 0.0588, 0.0588,  ..., 0.0588, 0.0000, 0.0000],\n",
       "          [0.0000, 0.0000, 0.0000,  ..., 0.0000, 0.0000, 0.0000],\n",
       "          [0.0000, 0.0000, 0.0000,  ..., 0.0000, 0.0000, 0.0000]],\n",
       "\n",
       "         [[0.0588, 0.0588, 0.0588,  ..., 0.0588, 0.0000, 0.0000],\n",
       "          [0.0588, 0.0588, 0.0588,  ..., 0.0588, 0.0000, 0.0000],\n",
       "          [0.0588, 0.0588, 0.0588,  ..., 0.0588, 0.0000, 0.0000],\n",
       "          ...,\n",
       "          [0.0588, 0.0588, 0.0588,  ..., 0.0588, 0.0000, 0.0000],\n",
       "          [0.0000, 0.0000, 0.0000,  ..., 0.0000, 0.0000, 0.0000],\n",
       "          [0.0000, 0.0000, 0.0000,  ..., 0.0000, 0.0000, 0.0000]],\n",
       "\n",
       "         [[0.0588, 0.0588, 0.0588,  ..., 0.0588, 0.0000, 0.0000],\n",
       "          [0.0588, 0.0588, 0.0588,  ..., 0.0588, 0.0000, 0.0000],\n",
       "          [0.0588, 0.0588, 0.0588,  ..., 0.0588, 0.0000, 0.0000],\n",
       "          ...,\n",
       "          [0.0588, 0.0588, 0.0588,  ..., 0.0588, 0.0000, 0.0000],\n",
       "          [0.0000, 0.0000, 0.0000,  ..., 0.0000, 0.0000, 0.0000],\n",
       "          [0.0000, 0.0000, 0.0000,  ..., 0.0000, 0.0000, 0.0000]]],\n",
       "\n",
       "\n",
       "        [[[0.0556, 0.0556, 0.0556,  ..., 0.0556, 0.0556, 0.0000],\n",
       "          [0.0556, 0.0556, 0.0556,  ..., 0.0556, 0.0556, 0.0000],\n",
       "          [0.0556, 0.0556, 0.0556,  ..., 0.0556, 0.0556, 0.0000],\n",
       "          ...,\n",
       "          [0.0556, 0.0556, 0.0556,  ..., 0.0556, 0.0556, 0.0000],\n",
       "          [0.0556, 0.0556, 0.0556,  ..., 0.0556, 0.0556, 0.0000],\n",
       "          [0.0000, 0.0000, 0.0000,  ..., 0.0000, 0.0000, 0.0000]],\n",
       "\n",
       "         [[0.0556, 0.0556, 0.0556,  ..., 0.0556, 0.0556, 0.0000],\n",
       "          [0.0556, 0.0556, 0.0556,  ..., 0.0556, 0.0556, 0.0000],\n",
       "          [0.0556, 0.0556, 0.0556,  ..., 0.0556, 0.0556, 0.0000],\n",
       "          ...,\n",
       "          [0.0556, 0.0556, 0.0556,  ..., 0.0556, 0.0556, 0.0000],\n",
       "          [0.0556, 0.0556, 0.0556,  ..., 0.0556, 0.0556, 0.0000],\n",
       "          [0.0000, 0.0000, 0.0000,  ..., 0.0000, 0.0000, 0.0000]],\n",
       "\n",
       "         [[0.0556, 0.0556, 0.0556,  ..., 0.0556, 0.0556, 0.0000],\n",
       "          [0.0556, 0.0556, 0.0556,  ..., 0.0556, 0.0556, 0.0000],\n",
       "          [0.0556, 0.0556, 0.0556,  ..., 0.0556, 0.0556, 0.0000],\n",
       "          ...,\n",
       "          [0.0556, 0.0556, 0.0556,  ..., 0.0556, 0.0556, 0.0000],\n",
       "          [0.0556, 0.0556, 0.0556,  ..., 0.0556, 0.0556, 0.0000],\n",
       "          [0.0000, 0.0000, 0.0000,  ..., 0.0000, 0.0000, 0.0000]],\n",
       "\n",
       "         ...,\n",
       "\n",
       "         [[0.0556, 0.0556, 0.0556,  ..., 0.0556, 0.0556, 0.0000],\n",
       "          [0.0556, 0.0556, 0.0556,  ..., 0.0556, 0.0556, 0.0000],\n",
       "          [0.0556, 0.0556, 0.0556,  ..., 0.0556, 0.0556, 0.0000],\n",
       "          ...,\n",
       "          [0.0556, 0.0556, 0.0556,  ..., 0.0556, 0.0556, 0.0000],\n",
       "          [0.0556, 0.0556, 0.0556,  ..., 0.0556, 0.0556, 0.0000],\n",
       "          [0.0000, 0.0000, 0.0000,  ..., 0.0000, 0.0000, 0.0000]],\n",
       "\n",
       "         [[0.0556, 0.0556, 0.0556,  ..., 0.0556, 0.0556, 0.0000],\n",
       "          [0.0556, 0.0556, 0.0556,  ..., 0.0556, 0.0556, 0.0000],\n",
       "          [0.0556, 0.0556, 0.0556,  ..., 0.0556, 0.0556, 0.0000],\n",
       "          ...,\n",
       "          [0.0556, 0.0556, 0.0556,  ..., 0.0556, 0.0556, 0.0000],\n",
       "          [0.0556, 0.0556, 0.0556,  ..., 0.0556, 0.0556, 0.0000],\n",
       "          [0.0000, 0.0000, 0.0000,  ..., 0.0000, 0.0000, 0.0000]],\n",
       "\n",
       "         [[0.0556, 0.0556, 0.0556,  ..., 0.0556, 0.0556, 0.0000],\n",
       "          [0.0556, 0.0556, 0.0556,  ..., 0.0556, 0.0556, 0.0000],\n",
       "          [0.0556, 0.0556, 0.0556,  ..., 0.0556, 0.0556, 0.0000],\n",
       "          ...,\n",
       "          [0.0556, 0.0556, 0.0556,  ..., 0.0556, 0.0556, 0.0000],\n",
       "          [0.0556, 0.0556, 0.0556,  ..., 0.0556, 0.0556, 0.0000],\n",
       "          [0.0000, 0.0000, 0.0000,  ..., 0.0000, 0.0000, 0.0000]]],\n",
       "\n",
       "\n",
       "        [[[0.0526, 0.0526, 0.0526,  ..., 0.0526, 0.0526, 0.0526],\n",
       "          [0.0526, 0.0526, 0.0526,  ..., 0.0526, 0.0526, 0.0526],\n",
       "          [0.0526, 0.0526, 0.0526,  ..., 0.0526, 0.0526, 0.0526],\n",
       "          ...,\n",
       "          [0.0526, 0.0526, 0.0526,  ..., 0.0526, 0.0526, 0.0526],\n",
       "          [0.0526, 0.0526, 0.0526,  ..., 0.0526, 0.0526, 0.0526],\n",
       "          [0.0526, 0.0526, 0.0526,  ..., 0.0526, 0.0526, 0.0526]],\n",
       "\n",
       "         [[0.0526, 0.0526, 0.0526,  ..., 0.0526, 0.0526, 0.0526],\n",
       "          [0.0526, 0.0526, 0.0526,  ..., 0.0526, 0.0526, 0.0526],\n",
       "          [0.0526, 0.0526, 0.0526,  ..., 0.0526, 0.0526, 0.0526],\n",
       "          ...,\n",
       "          [0.0526, 0.0526, 0.0526,  ..., 0.0526, 0.0526, 0.0526],\n",
       "          [0.0526, 0.0526, 0.0526,  ..., 0.0526, 0.0526, 0.0526],\n",
       "          [0.0526, 0.0526, 0.0526,  ..., 0.0526, 0.0526, 0.0526]],\n",
       "\n",
       "         [[0.0526, 0.0526, 0.0526,  ..., 0.0526, 0.0526, 0.0526],\n",
       "          [0.0526, 0.0526, 0.0526,  ..., 0.0526, 0.0526, 0.0526],\n",
       "          [0.0526, 0.0526, 0.0526,  ..., 0.0526, 0.0526, 0.0526],\n",
       "          ...,\n",
       "          [0.0526, 0.0526, 0.0526,  ..., 0.0526, 0.0526, 0.0526],\n",
       "          [0.0526, 0.0526, 0.0526,  ..., 0.0526, 0.0526, 0.0526],\n",
       "          [0.0526, 0.0526, 0.0526,  ..., 0.0526, 0.0526, 0.0526]],\n",
       "\n",
       "         ...,\n",
       "\n",
       "         [[0.0526, 0.0526, 0.0526,  ..., 0.0526, 0.0526, 0.0526],\n",
       "          [0.0526, 0.0526, 0.0526,  ..., 0.0526, 0.0526, 0.0526],\n",
       "          [0.0526, 0.0526, 0.0526,  ..., 0.0526, 0.0526, 0.0526],\n",
       "          ...,\n",
       "          [0.0526, 0.0526, 0.0526,  ..., 0.0526, 0.0526, 0.0526],\n",
       "          [0.0526, 0.0526, 0.0526,  ..., 0.0526, 0.0526, 0.0526],\n",
       "          [0.0526, 0.0526, 0.0526,  ..., 0.0526, 0.0526, 0.0526]],\n",
       "\n",
       "         [[0.0526, 0.0526, 0.0526,  ..., 0.0526, 0.0526, 0.0526],\n",
       "          [0.0526, 0.0526, 0.0526,  ..., 0.0526, 0.0526, 0.0526],\n",
       "          [0.0526, 0.0526, 0.0526,  ..., 0.0526, 0.0526, 0.0526],\n",
       "          ...,\n",
       "          [0.0526, 0.0526, 0.0526,  ..., 0.0526, 0.0526, 0.0526],\n",
       "          [0.0526, 0.0526, 0.0526,  ..., 0.0526, 0.0526, 0.0526],\n",
       "          [0.0526, 0.0526, 0.0526,  ..., 0.0526, 0.0526, 0.0526]],\n",
       "\n",
       "         [[0.0526, 0.0526, 0.0526,  ..., 0.0526, 0.0526, 0.0526],\n",
       "          [0.0526, 0.0526, 0.0526,  ..., 0.0526, 0.0526, 0.0526],\n",
       "          [0.0526, 0.0526, 0.0526,  ..., 0.0526, 0.0526, 0.0526],\n",
       "          ...,\n",
       "          [0.0526, 0.0526, 0.0526,  ..., 0.0526, 0.0526, 0.0526],\n",
       "          [0.0526, 0.0526, 0.0526,  ..., 0.0526, 0.0526, 0.0526],\n",
       "          [0.0526, 0.0526, 0.0526,  ..., 0.0526, 0.0526, 0.0526]]]])"
      ]
     },
     "execution_count": 76,
     "metadata": {},
     "output_type": "execute_result"
    }
   ],
   "source": [
    "F.softmax(adj_mask, dim=-1)*padding_mask"
   ]
  },
  {
   "cell_type": "code",
   "execution_count": 66,
   "metadata": {},
   "outputs": [
    {
     "data": {
      "text/plain": [
       "<matplotlib.image.AxesImage at 0x7f0343b727d0>"
      ]
     },
     "execution_count": 66,
     "metadata": {},
     "output_type": "execute_result"
    },
    {
     "data": {
      "image/png": "[encoded data removed]",
      "text/plain": [
       "<Figure size 640x480 with 1 Axes>"
      ]
     },
     "metadata": {},
     "output_type": "display_data"
    }
   ],
   "source": [
    "plt.imshow(adj[0])"
   ]
  },
  {
   "cell_type": "code",
   "execution_count": 74,
   "metadata": {},
   "outputs": [
    {
     "data": {
      "text/plain": [
       "<matplotlib.image.AxesImage at 0x7f03437edfd0>"
      ]
     },
     "execution_count": 74,
     "metadata": {},
     "output_type": "execute_result"
    },
    {
     "data": {
      "image/png": "[encoded data removed]",
      "text/plain": [
       "<Figure size 640x480 with 1 Axes>"
      ]
     },
     "metadata": {},
     "output_type": "display_data"
    }
   ],
   "source": [
    "plt.imshow((F.softmax(adj_mask, dim=-1)*padding_mask)[0,0])"
   ]
  },
  {
   "cell_type": "code",
   "execution_count": 70,
   "metadata": {},
   "outputs": [
    {
     "data": {
      "text/plain": [
       "torch.Size([10, 8, 19, 1])"
      ]
     },
     "execution_count": 70,
     "metadata": {},
     "output_type": "execute_result"
    }
   ],
   "source": [
    "x, padding_mask = torch_geometric.utils.to_dense_batch(g.x, g.batch)\n",
    "padding_mask = padding_mask.unsqueeze(1).repeat(1,8,1).unsqueeze(-1)\n",
    "padding_mask.shape"
   ]
  },
  {
   "cell_type": "code",
   "execution_count": 33,
   "metadata": {},
   "outputs": [
    {
     "data": {
      "text/plain": [
       "torch.Size([10, 8, 19, 19])"
      ]
     },
     "execution_count": 33,
     "metadata": {},
     "output_type": "execute_result"
    }
   ],
   "source": [
    "attention_mask = torch.zeros(adj_mask.size(), dtype=torch.float)\n",
    "attention_mask.shape"
   ]
  },
  {
   "cell_type": "code",
   "execution_count": 37,
   "metadata": {},
   "outputs": [
    {
     "data": {
      "text/plain": [
       "tensor([[[[0., 0., 0.,  ..., -inf, -inf, -inf],\n",
       "          [0., 0., 0.,  ..., -inf, -inf, -inf],\n",
       "          [0., 0., 0.,  ..., -inf, -inf, -inf],\n",
       "          ...,\n",
       "          [-inf, -inf, -inf,  ..., -inf, -inf, -inf],\n",
       "          [-inf, -inf, -inf,  ..., -inf, -inf, -inf],\n",
       "          [-inf, -inf, -inf,  ..., -inf, -inf, -inf]],\n",
       "\n",
       "         [[0., 0., 0.,  ..., -inf, -inf, -inf],\n",
       "          [0., 0., 0.,  ..., -inf, -inf, -inf],\n",
       "          [0., 0., 0.,  ..., -inf, -inf, -inf],\n",
       "          ...,\n",
       "          [-inf, -inf, -inf,  ..., -inf, -inf, -inf],\n",
       "          [-inf, -inf, -inf,  ..., -inf, -inf, -inf],\n",
       "          [-inf, -inf, -inf,  ..., -inf, -inf, -inf]],\n",
       "\n",
       "         [[0., 0., 0.,  ..., -inf, -inf, -inf],\n",
       "          [0., 0., 0.,  ..., -inf, -inf, -inf],\n",
       "          [0., 0., 0.,  ..., -inf, -inf, -inf],\n",
       "          ...,\n",
       "          [-inf, -inf, -inf,  ..., -inf, -inf, -inf],\n",
       "          [-inf, -inf, -inf,  ..., -inf, -inf, -inf],\n",
       "          [-inf, -inf, -inf,  ..., -inf, -inf, -inf]],\n",
       "\n",
       "         ...,\n",
       "\n",
       "         [[0., 0., 0.,  ..., -inf, -inf, -inf],\n",
       "          [0., 0., 0.,  ..., -inf, -inf, -inf],\n",
       "          [0., 0., 0.,  ..., -inf, -inf, -inf],\n",
       "          ...,\n",
       "          [-inf, -inf, -inf,  ..., -inf, -inf, -inf],\n",
       "          [-inf, -inf, -inf,  ..., -inf, -inf, -inf],\n",
       "          [-inf, -inf, -inf,  ..., -inf, -inf, -inf]],\n",
       "\n",
       "         [[0., 0., 0.,  ..., -inf, -inf, -inf],\n",
       "          [0., 0., 0.,  ..., -inf, -inf, -inf],\n",
       "          [0., 0., 0.,  ..., -inf, -inf, -inf],\n",
       "          ...,\n",
       "          [-inf, -inf, -inf,  ..., -inf, -inf, -inf],\n",
       "          [-inf, -inf, -inf,  ..., -inf, -inf, -inf],\n",
       "          [-inf, -inf, -inf,  ..., -inf, -inf, -inf]],\n",
       "\n",
       "         [[0., 0., 0.,  ..., -inf, -inf, -inf],\n",
       "          [0., 0., 0.,  ..., -inf, -inf, -inf],\n",
       "          [0., 0., 0.,  ..., -inf, -inf, -inf],\n",
       "          ...,\n",
       "          [-inf, -inf, -inf,  ..., -inf, -inf, -inf],\n",
       "          [-inf, -inf, -inf,  ..., -inf, -inf, -inf],\n",
       "          [-inf, -inf, -inf,  ..., -inf, -inf, -inf]]],\n",
       "\n",
       "\n",
       "        [[[0., 0., 0.,  ..., -inf, -inf, -inf],\n",
       "          [0., 0., 0.,  ..., -inf, -inf, -inf],\n",
       "          [0., 0., 0.,  ..., -inf, -inf, -inf],\n",
       "          ...,\n",
       "          [-inf, -inf, -inf,  ..., -inf, -inf, -inf],\n",
       "          [-inf, -inf, -inf,  ..., -inf, -inf, -inf],\n",
       "          [-inf, -inf, -inf,  ..., -inf, -inf, -inf]],\n",
       "\n",
       "         [[0., 0., 0.,  ..., -inf, -inf, -inf],\n",
       "          [0., 0., 0.,  ..., -inf, -inf, -inf],\n",
       "          [0., 0., 0.,  ..., -inf, -inf, -inf],\n",
       "          ...,\n",
       "          [-inf, -inf, -inf,  ..., -inf, -inf, -inf],\n",
       "          [-inf, -inf, -inf,  ..., -inf, -inf, -inf],\n",
       "          [-inf, -inf, -inf,  ..., -inf, -inf, -inf]],\n",
       "\n",
       "         [[0., 0., 0.,  ..., -inf, -inf, -inf],\n",
       "          [0., 0., 0.,  ..., -inf, -inf, -inf],\n",
       "          [0., 0., 0.,  ..., -inf, -inf, -inf],\n",
       "          ...,\n",
       "          [-inf, -inf, -inf,  ..., -inf, -inf, -inf],\n",
       "          [-inf, -inf, -inf,  ..., -inf, -inf, -inf],\n",
       "          [-inf, -inf, -inf,  ..., -inf, -inf, -inf]],\n",
       "\n",
       "         ...,\n",
       "\n",
       "         [[0., 0., 0.,  ..., -inf, -inf, -inf],\n",
       "          [0., 0., 0.,  ..., -inf, -inf, -inf],\n",
       "          [0., 0., 0.,  ..., -inf, -inf, -inf],\n",
       "          ...,\n",
       "          [-inf, -inf, -inf,  ..., -inf, -inf, -inf],\n",
       "          [-inf, -inf, -inf,  ..., -inf, -inf, -inf],\n",
       "          [-inf, -inf, -inf,  ..., -inf, -inf, -inf]],\n",
       "\n",
       "         [[0., 0., 0.,  ..., -inf, -inf, -inf],\n",
       "          [0., 0., 0.,  ..., -inf, -inf, -inf],\n",
       "          [0., 0., 0.,  ..., -inf, -inf, -inf],\n",
       "          ...,\n",
       "          [-inf, -inf, -inf,  ..., -inf, -inf, -inf],\n",
       "          [-inf, -inf, -inf,  ..., -inf, -inf, -inf],\n",
       "          [-inf, -inf, -inf,  ..., -inf, -inf, -inf]],\n",
       "\n",
       "         [[0., 0., 0.,  ..., -inf, -inf, -inf],\n",
       "          [0., 0., 0.,  ..., -inf, -inf, -inf],\n",
       "          [0., 0., 0.,  ..., -inf, -inf, -inf],\n",
       "          ...,\n",
       "          [-inf, -inf, -inf,  ..., -inf, -inf, -inf],\n",
       "          [-inf, -inf, -inf,  ..., -inf, -inf, -inf],\n",
       "          [-inf, -inf, -inf,  ..., -inf, -inf, -inf]]],\n",
       "\n",
       "\n",
       "        [[[0., 0., 0.,  ..., -inf, -inf, -inf],\n",
       "          [0., 0., 0.,  ..., -inf, -inf, -inf],\n",
       "          [0., 0., 0.,  ..., -inf, -inf, -inf],\n",
       "          ...,\n",
       "          [-inf, -inf, -inf,  ..., -inf, -inf, -inf],\n",
       "          [-inf, -inf, -inf,  ..., -inf, -inf, -inf],\n",
       "          [-inf, -inf, -inf,  ..., -inf, -inf, -inf]],\n",
       "\n",
       "         [[0., 0., 0.,  ..., -inf, -inf, -inf],\n",
       "          [0., 0., 0.,  ..., -inf, -inf, -inf],\n",
       "          [0., 0., 0.,  ..., -inf, -inf, -inf],\n",
       "          ...,\n",
       "          [-inf, -inf, -inf,  ..., -inf, -inf, -inf],\n",
       "          [-inf, -inf, -inf,  ..., -inf, -inf, -inf],\n",
       "          [-inf, -inf, -inf,  ..., -inf, -inf, -inf]],\n",
       "\n",
       "         [[0., 0., 0.,  ..., -inf, -inf, -inf],\n",
       "          [0., 0., 0.,  ..., -inf, -inf, -inf],\n",
       "          [0., 0., 0.,  ..., -inf, -inf, -inf],\n",
       "          ...,\n",
       "          [-inf, -inf, -inf,  ..., -inf, -inf, -inf],\n",
       "          [-inf, -inf, -inf,  ..., -inf, -inf, -inf],\n",
       "          [-inf, -inf, -inf,  ..., -inf, -inf, -inf]],\n",
       "\n",
       "         ...,\n",
       "\n",
       "         [[0., 0., 0.,  ..., -inf, -inf, -inf],\n",
       "          [0., 0., 0.,  ..., -inf, -inf, -inf],\n",
       "          [0., 0., 0.,  ..., -inf, -inf, -inf],\n",
       "          ...,\n",
       "          [-inf, -inf, -inf,  ..., -inf, -inf, -inf],\n",
       "          [-inf, -inf, -inf,  ..., -inf, -inf, -inf],\n",
       "          [-inf, -inf, -inf,  ..., -inf, -inf, -inf]],\n",
       "\n",
       "         [[0., 0., 0.,  ..., -inf, -inf, -inf],\n",
       "          [0., 0., 0.,  ..., -inf, -inf, -inf],\n",
       "          [0., 0., 0.,  ..., -inf, -inf, -inf],\n",
       "          ...,\n",
       "          [-inf, -inf, -inf,  ..., -inf, -inf, -inf],\n",
       "          [-inf, -inf, -inf,  ..., -inf, -inf, -inf],\n",
       "          [-inf, -inf, -inf,  ..., -inf, -inf, -inf]],\n",
       "\n",
       "         [[0., 0., 0.,  ..., -inf, -inf, -inf],\n",
       "          [0., 0., 0.,  ..., -inf, -inf, -inf],\n",
       "          [0., 0., 0.,  ..., -inf, -inf, -inf],\n",
       "          ...,\n",
       "          [-inf, -inf, -inf,  ..., -inf, -inf, -inf],\n",
       "          [-inf, -inf, -inf,  ..., -inf, -inf, -inf],\n",
       "          [-inf, -inf, -inf,  ..., -inf, -inf, -inf]]],\n",
       "\n",
       "\n",
       "        ...,\n",
       "\n",
       "\n",
       "        [[[0., 0., 0.,  ..., 0., -inf, -inf],\n",
       "          [0., 0., 0.,  ..., 0., -inf, -inf],\n",
       "          [0., 0., 0.,  ..., 0., -inf, -inf],\n",
       "          ...,\n",
       "          [0., 0., 0.,  ..., 0., -inf, -inf],\n",
       "          [-inf, -inf, -inf,  ..., -inf, -inf, -inf],\n",
       "          [-inf, -inf, -inf,  ..., -inf, -inf, -inf]],\n",
       "\n",
       "         [[0., 0., 0.,  ..., 0., -inf, -inf],\n",
       "          [0., 0., 0.,  ..., 0., -inf, -inf],\n",
       "          [0., 0., 0.,  ..., 0., -inf, -inf],\n",
       "          ...,\n",
       "          [0., 0., 0.,  ..., 0., -inf, -inf],\n",
       "          [-inf, -inf, -inf,  ..., -inf, -inf, -inf],\n",
       "          [-inf, -inf, -inf,  ..., -inf, -inf, -inf]],\n",
       "\n",
       "         [[0., 0., 0.,  ..., 0., -inf, -inf],\n",
       "          [0., 0., 0.,  ..., 0., -inf, -inf],\n",
       "          [0., 0., 0.,  ..., 0., -inf, -inf],\n",
       "          ...,\n",
       "          [0., 0., 0.,  ..., 0., -inf, -inf],\n",
       "          [-inf, -inf, -inf,  ..., -inf, -inf, -inf],\n",
       "          [-inf, -inf, -inf,  ..., -inf, -inf, -inf]],\n",
       "\n",
       "         ...,\n",
       "\n",
       "         [[0., 0., 0.,  ..., 0., -inf, -inf],\n",
       "          [0., 0., 0.,  ..., 0., -inf, -inf],\n",
       "          [0., 0., 0.,  ..., 0., -inf, -inf],\n",
       "          ...,\n",
       "          [0., 0., 0.,  ..., 0., -inf, -inf],\n",
       "          [-inf, -inf, -inf,  ..., -inf, -inf, -inf],\n",
       "          [-inf, -inf, -inf,  ..., -inf, -inf, -inf]],\n",
       "\n",
       "         [[0., 0., 0.,  ..., 0., -inf, -inf],\n",
       "          [0., 0., 0.,  ..., 0., -inf, -inf],\n",
       "          [0., 0., 0.,  ..., 0., -inf, -inf],\n",
       "          ...,\n",
       "          [0., 0., 0.,  ..., 0., -inf, -inf],\n",
       "          [-inf, -inf, -inf,  ..., -inf, -inf, -inf],\n",
       "          [-inf, -inf, -inf,  ..., -inf, -inf, -inf]],\n",
       "\n",
       "         [[0., 0., 0.,  ..., 0., -inf, -inf],\n",
       "          [0., 0., 0.,  ..., 0., -inf, -inf],\n",
       "          [0., 0., 0.,  ..., 0., -inf, -inf],\n",
       "          ...,\n",
       "          [0., 0., 0.,  ..., 0., -inf, -inf],\n",
       "          [-inf, -inf, -inf,  ..., -inf, -inf, -inf],\n",
       "          [-inf, -inf, -inf,  ..., -inf, -inf, -inf]]],\n",
       "\n",
       "\n",
       "        [[[0., 0., 0.,  ..., 0., 0., -inf],\n",
       "          [0., 0., 0.,  ..., 0., 0., -inf],\n",
       "          [0., 0., 0.,  ..., 0., 0., -inf],\n",
       "          ...,\n",
       "          [0., 0., 0.,  ..., 0., 0., -inf],\n",
       "          [0., 0., 0.,  ..., 0., 0., -inf],\n",
       "          [-inf, -inf, -inf,  ..., -inf, -inf, -inf]],\n",
       "\n",
       "         [[0., 0., 0.,  ..., 0., 0., -inf],\n",
       "          [0., 0., 0.,  ..., 0., 0., -inf],\n",
       "          [0., 0., 0.,  ..., 0., 0., -inf],\n",
       "          ...,\n",
       "          [0., 0., 0.,  ..., 0., 0., -inf],\n",
       "          [0., 0., 0.,  ..., 0., 0., -inf],\n",
       "          [-inf, -inf, -inf,  ..., -inf, -inf, -inf]],\n",
       "\n",
       "         [[0., 0., 0.,  ..., 0., 0., -inf],\n",
       "          [0., 0., 0.,  ..., 0., 0., -inf],\n",
       "          [0., 0., 0.,  ..., 0., 0., -inf],\n",
       "          ...,\n",
       "          [0., 0., 0.,  ..., 0., 0., -inf],\n",
       "          [0., 0., 0.,  ..., 0., 0., -inf],\n",
       "          [-inf, -inf, -inf,  ..., -inf, -inf, -inf]],\n",
       "\n",
       "         ...,\n",
       "\n",
       "         [[0., 0., 0.,  ..., 0., 0., -inf],\n",
       "          [0., 0., 0.,  ..., 0., 0., -inf],\n",
       "          [0., 0., 0.,  ..., 0., 0., -inf],\n",
       "          ...,\n",
       "          [0., 0., 0.,  ..., 0., 0., -inf],\n",
       "          [0., 0., 0.,  ..., 0., 0., -inf],\n",
       "          [-inf, -inf, -inf,  ..., -inf, -inf, -inf]],\n",
       "\n",
       "         [[0., 0., 0.,  ..., 0., 0., -inf],\n",
       "          [0., 0., 0.,  ..., 0., 0., -inf],\n",
       "          [0., 0., 0.,  ..., 0., 0., -inf],\n",
       "          ...,\n",
       "          [0., 0., 0.,  ..., 0., 0., -inf],\n",
       "          [0., 0., 0.,  ..., 0., 0., -inf],\n",
       "          [-inf, -inf, -inf,  ..., -inf, -inf, -inf]],\n",
       "\n",
       "         [[0., 0., 0.,  ..., 0., 0., -inf],\n",
       "          [0., 0., 0.,  ..., 0., 0., -inf],\n",
       "          [0., 0., 0.,  ..., 0., 0., -inf],\n",
       "          ...,\n",
       "          [0., 0., 0.,  ..., 0., 0., -inf],\n",
       "          [0., 0., 0.,  ..., 0., 0., -inf],\n",
       "          [-inf, -inf, -inf,  ..., -inf, -inf, -inf]]],\n",
       "\n",
       "\n",
       "        [[[0., 0., 0.,  ..., 0., 0., 0.],\n",
       "          [0., 0., 0.,  ..., 0., 0., 0.],\n",
       "          [0., 0., 0.,  ..., 0., 0., 0.],\n",
       "          ...,\n",
       "          [0., 0., 0.,  ..., 0., 0., 0.],\n",
       "          [0., 0., 0.,  ..., 0., 0., 0.],\n",
       "          [0., 0., 0.,  ..., 0., 0., 0.]],\n",
       "\n",
       "         [[0., 0., 0.,  ..., 0., 0., 0.],\n",
       "          [0., 0., 0.,  ..., 0., 0., 0.],\n",
       "          [0., 0., 0.,  ..., 0., 0., 0.],\n",
       "          ...,\n",
       "          [0., 0., 0.,  ..., 0., 0., 0.],\n",
       "          [0., 0., 0.,  ..., 0., 0., 0.],\n",
       "          [0., 0., 0.,  ..., 0., 0., 0.]],\n",
       "\n",
       "         [[0., 0., 0.,  ..., 0., 0., 0.],\n",
       "          [0., 0., 0.,  ..., 0., 0., 0.],\n",
       "          [0., 0., 0.,  ..., 0., 0., 0.],\n",
       "          ...,\n",
       "          [0., 0., 0.,  ..., 0., 0., 0.],\n",
       "          [0., 0., 0.,  ..., 0., 0., 0.],\n",
       "          [0., 0., 0.,  ..., 0., 0., 0.]],\n",
       "\n",
       "         ...,\n",
       "\n",
       "         [[0., 0., 0.,  ..., 0., 0., 0.],\n",
       "          [0., 0., 0.,  ..., 0., 0., 0.],\n",
       "          [0., 0., 0.,  ..., 0., 0., 0.],\n",
       "          ...,\n",
       "          [0., 0., 0.,  ..., 0., 0., 0.],\n",
       "          [0., 0., 0.,  ..., 0., 0., 0.],\n",
       "          [0., 0., 0.,  ..., 0., 0., 0.]],\n",
       "\n",
       "         [[0., 0., 0.,  ..., 0., 0., 0.],\n",
       "          [0., 0., 0.,  ..., 0., 0., 0.],\n",
       "          [0., 0., 0.,  ..., 0., 0., 0.],\n",
       "          ...,\n",
       "          [0., 0., 0.,  ..., 0., 0., 0.],\n",
       "          [0., 0., 0.,  ..., 0., 0., 0.],\n",
       "          [0., 0., 0.,  ..., 0., 0., 0.]],\n",
       "\n",
       "         [[0., 0., 0.,  ..., 0., 0., 0.],\n",
       "          [0., 0., 0.,  ..., 0., 0., 0.],\n",
       "          [0., 0., 0.,  ..., 0., 0., 0.],\n",
       "          ...,\n",
       "          [0., 0., 0.,  ..., 0., 0., 0.],\n",
       "          [0., 0., 0.,  ..., 0., 0., 0.],\n",
       "          [0., 0., 0.,  ..., 0., 0., 0.]]]])"
      ]
     },
     "execution_count": 37,
     "metadata": {},
     "output_type": "execute_result"
    }
   ],
   "source": [
    "# Attention mask for addition format\n",
    "attention_mask = torch.nn.functional._canonical_mask(mask=adj_mask,\n",
    "                                                            mask_name=\"attention_mask\",\n",
    "                                                            other_type=None,\n",
    "                                                            other_name=\"\",\n",
    "                                                            target_type=torch.float,\n",
    "                                                            check_other=False,)\n",
    "\n",
    "attention_mask"
   ]
  },
  {
   "cell_type": "code",
   "execution_count": 39,
   "metadata": {},
   "outputs": [
    {
     "data": {
      "text/plain": [
       "torch.Size([10, 8, 19, 19])"
      ]
     },
     "execution_count": 39,
     "metadata": {},
     "output_type": "execute_result"
    }
   ],
   "source": [
    "attention_mask.shape"
   ]
  },
  {
   "cell_type": "code",
   "execution_count": 40,
   "metadata": {},
   "outputs": [
    {
     "data": {
      "text/plain": [
       "torch.Size([10, 8, 19])"
      ]
     },
     "execution_count": 40,
     "metadata": {},
     "output_type": "execute_result"
    }
   ],
   "source": [
    "padding_mask.shape"
   ]
  },
  {
   "cell_type": "code",
   "execution_count": 42,
   "metadata": {},
   "outputs": [
    {
     "data": {
      "text/plain": [
       "tensor([[[[0., 0., 0.,  ..., -inf, -inf, -inf],\n",
       "          [0., 0., 0.,  ..., -inf, -inf, -inf],\n",
       "          [0., 0., 0.,  ..., -inf, -inf, -inf],\n",
       "          ...,\n",
       "          [nan, nan, nan,  ..., nan, nan, nan],\n",
       "          [nan, nan, nan,  ..., nan, nan, nan],\n",
       "          [nan, nan, nan,  ..., nan, nan, nan]],\n",
       "\n",
       "         [[0., 0., 0.,  ..., -inf, -inf, -inf],\n",
       "          [0., 0., 0.,  ..., -inf, -inf, -inf],\n",
       "          [0., 0., 0.,  ..., -inf, -inf, -inf],\n",
       "          ...,\n",
       "          [nan, nan, nan,  ..., nan, nan, nan],\n",
       "          [nan, nan, nan,  ..., nan, nan, nan],\n",
       "          [nan, nan, nan,  ..., nan, nan, nan]],\n",
       "\n",
       "         [[0., 0., 0.,  ..., -inf, -inf, -inf],\n",
       "          [0., 0., 0.,  ..., -inf, -inf, -inf],\n",
       "          [0., 0., 0.,  ..., -inf, -inf, -inf],\n",
       "          ...,\n",
       "          [nan, nan, nan,  ..., nan, nan, nan],\n",
       "          [nan, nan, nan,  ..., nan, nan, nan],\n",
       "          [nan, nan, nan,  ..., nan, nan, nan]],\n",
       "\n",
       "         ...,\n",
       "\n",
       "         [[0., 0., 0.,  ..., -inf, -inf, -inf],\n",
       "          [0., 0., 0.,  ..., -inf, -inf, -inf],\n",
       "          [0., 0., 0.,  ..., -inf, -inf, -inf],\n",
       "          ...,\n",
       "          [nan, nan, nan,  ..., nan, nan, nan],\n",
       "          [nan, nan, nan,  ..., nan, nan, nan],\n",
       "          [nan, nan, nan,  ..., nan, nan, nan]],\n",
       "\n",
       "         [[0., 0., 0.,  ..., -inf, -inf, -inf],\n",
       "          [0., 0., 0.,  ..., -inf, -inf, -inf],\n",
       "          [0., 0., 0.,  ..., -inf, -inf, -inf],\n",
       "          ...,\n",
       "          [nan, nan, nan,  ..., nan, nan, nan],\n",
       "          [nan, nan, nan,  ..., nan, nan, nan],\n",
       "          [nan, nan, nan,  ..., nan, nan, nan]],\n",
       "\n",
       "         [[0., 0., 0.,  ..., -inf, -inf, -inf],\n",
       "          [0., 0., 0.,  ..., -inf, -inf, -inf],\n",
       "          [0., 0., 0.,  ..., -inf, -inf, -inf],\n",
       "          ...,\n",
       "          [nan, nan, nan,  ..., nan, nan, nan],\n",
       "          [nan, nan, nan,  ..., nan, nan, nan],\n",
       "          [nan, nan, nan,  ..., nan, nan, nan]]],\n",
       "\n",
       "\n",
       "        [[[0., 0., 0.,  ..., -inf, -inf, -inf],\n",
       "          [0., 0., 0.,  ..., -inf, -inf, -inf],\n",
       "          [0., 0., 0.,  ..., -inf, -inf, -inf],\n",
       "          ...,\n",
       "          [nan, nan, nan,  ..., nan, nan, nan],\n",
       "          [nan, nan, nan,  ..., nan, nan, nan],\n",
       "          [nan, nan, nan,  ..., nan, nan, nan]],\n",
       "\n",
       "         [[0., 0., 0.,  ..., -inf, -inf, -inf],\n",
       "          [0., 0., 0.,  ..., -inf, -inf, -inf],\n",
       "          [0., 0., 0.,  ..., -inf, -inf, -inf],\n",
       "          ...,\n",
       "          [nan, nan, nan,  ..., nan, nan, nan],\n",
       "          [nan, nan, nan,  ..., nan, nan, nan],\n",
       "          [nan, nan, nan,  ..., nan, nan, nan]],\n",
       "\n",
       "         [[0., 0., 0.,  ..., -inf, -inf, -inf],\n",
       "          [0., 0., 0.,  ..., -inf, -inf, -inf],\n",
       "          [0., 0., 0.,  ..., -inf, -inf, -inf],\n",
       "          ...,\n",
       "          [nan, nan, nan,  ..., nan, nan, nan],\n",
       "          [nan, nan, nan,  ..., nan, nan, nan],\n",
       "          [nan, nan, nan,  ..., nan, nan, nan]],\n",
       "\n",
       "         ...,\n",
       "\n",
       "         [[0., 0., 0.,  ..., -inf, -inf, -inf],\n",
       "          [0., 0., 0.,  ..., -inf, -inf, -inf],\n",
       "          [0., 0., 0.,  ..., -inf, -inf, -inf],\n",
       "          ...,\n",
       "          [nan, nan, nan,  ..., nan, nan, nan],\n",
       "          [nan, nan, nan,  ..., nan, nan, nan],\n",
       "          [nan, nan, nan,  ..., nan, nan, nan]],\n",
       "\n",
       "         [[0., 0., 0.,  ..., -inf, -inf, -inf],\n",
       "          [0., 0., 0.,  ..., -inf, -inf, -inf],\n",
       "          [0., 0., 0.,  ..., -inf, -inf, -inf],\n",
       "          ...,\n",
       "          [nan, nan, nan,  ..., nan, nan, nan],\n",
       "          [nan, nan, nan,  ..., nan, nan, nan],\n",
       "          [nan, nan, nan,  ..., nan, nan, nan]],\n",
       "\n",
       "         [[0., 0., 0.,  ..., -inf, -inf, -inf],\n",
       "          [0., 0., 0.,  ..., -inf, -inf, -inf],\n",
       "          [0., 0., 0.,  ..., -inf, -inf, -inf],\n",
       "          ...,\n",
       "          [nan, nan, nan,  ..., nan, nan, nan],\n",
       "          [nan, nan, nan,  ..., nan, nan, nan],\n",
       "          [nan, nan, nan,  ..., nan, nan, nan]]],\n",
       "\n",
       "\n",
       "        [[[0., 0., 0.,  ..., -inf, -inf, -inf],\n",
       "          [0., 0., 0.,  ..., -inf, -inf, -inf],\n",
       "          [0., 0., 0.,  ..., -inf, -inf, -inf],\n",
       "          ...,\n",
       "          [nan, nan, nan,  ..., nan, nan, nan],\n",
       "          [nan, nan, nan,  ..., nan, nan, nan],\n",
       "          [nan, nan, nan,  ..., nan, nan, nan]],\n",
       "\n",
       "         [[0., 0., 0.,  ..., -inf, -inf, -inf],\n",
       "          [0., 0., 0.,  ..., -inf, -inf, -inf],\n",
       "          [0., 0., 0.,  ..., -inf, -inf, -inf],\n",
       "          ...,\n",
       "          [nan, nan, nan,  ..., nan, nan, nan],\n",
       "          [nan, nan, nan,  ..., nan, nan, nan],\n",
       "          [nan, nan, nan,  ..., nan, nan, nan]],\n",
       "\n",
       "         [[0., 0., 0.,  ..., -inf, -inf, -inf],\n",
       "          [0., 0., 0.,  ..., -inf, -inf, -inf],\n",
       "          [0., 0., 0.,  ..., -inf, -inf, -inf],\n",
       "          ...,\n",
       "          [nan, nan, nan,  ..., nan, nan, nan],\n",
       "          [nan, nan, nan,  ..., nan, nan, nan],\n",
       "          [nan, nan, nan,  ..., nan, nan, nan]],\n",
       "\n",
       "         ...,\n",
       "\n",
       "         [[0., 0., 0.,  ..., -inf, -inf, -inf],\n",
       "          [0., 0., 0.,  ..., -inf, -inf, -inf],\n",
       "          [0., 0., 0.,  ..., -inf, -inf, -inf],\n",
       "          ...,\n",
       "          [nan, nan, nan,  ..., nan, nan, nan],\n",
       "          [nan, nan, nan,  ..., nan, nan, nan],\n",
       "          [nan, nan, nan,  ..., nan, nan, nan]],\n",
       "\n",
       "         [[0., 0., 0.,  ..., -inf, -inf, -inf],\n",
       "          [0., 0., 0.,  ..., -inf, -inf, -inf],\n",
       "          [0., 0., 0.,  ..., -inf, -inf, -inf],\n",
       "          ...,\n",
       "          [nan, nan, nan,  ..., nan, nan, nan],\n",
       "          [nan, nan, nan,  ..., nan, nan, nan],\n",
       "          [nan, nan, nan,  ..., nan, nan, nan]],\n",
       "\n",
       "         [[0., 0., 0.,  ..., -inf, -inf, -inf],\n",
       "          [0., 0., 0.,  ..., -inf, -inf, -inf],\n",
       "          [0., 0., 0.,  ..., -inf, -inf, -inf],\n",
       "          ...,\n",
       "          [nan, nan, nan,  ..., nan, nan, nan],\n",
       "          [nan, nan, nan,  ..., nan, nan, nan],\n",
       "          [nan, nan, nan,  ..., nan, nan, nan]]],\n",
       "\n",
       "\n",
       "        ...,\n",
       "\n",
       "\n",
       "        [[[0., 0., 0.,  ..., 0., -inf, -inf],\n",
       "          [0., 0., 0.,  ..., 0., -inf, -inf],\n",
       "          [0., 0., 0.,  ..., 0., -inf, -inf],\n",
       "          ...,\n",
       "          [0., 0., 0.,  ..., 0., -inf, -inf],\n",
       "          [nan, nan, nan,  ..., nan, nan, nan],\n",
       "          [nan, nan, nan,  ..., nan, nan, nan]],\n",
       "\n",
       "         [[0., 0., 0.,  ..., 0., -inf, -inf],\n",
       "          [0., 0., 0.,  ..., 0., -inf, -inf],\n",
       "          [0., 0., 0.,  ..., 0., -inf, -inf],\n",
       "          ...,\n",
       "          [0., 0., 0.,  ..., 0., -inf, -inf],\n",
       "          [nan, nan, nan,  ..., nan, nan, nan],\n",
       "          [nan, nan, nan,  ..., nan, nan, nan]],\n",
       "\n",
       "         [[0., 0., 0.,  ..., 0., -inf, -inf],\n",
       "          [0., 0., 0.,  ..., 0., -inf, -inf],\n",
       "          [0., 0., 0.,  ..., 0., -inf, -inf],\n",
       "          ...,\n",
       "          [0., 0., 0.,  ..., 0., -inf, -inf],\n",
       "          [nan, nan, nan,  ..., nan, nan, nan],\n",
       "          [nan, nan, nan,  ..., nan, nan, nan]],\n",
       "\n",
       "         ...,\n",
       "\n",
       "         [[0., 0., 0.,  ..., 0., -inf, -inf],\n",
       "          [0., 0., 0.,  ..., 0., -inf, -inf],\n",
       "          [0., 0., 0.,  ..., 0., -inf, -inf],\n",
       "          ...,\n",
       "          [0., 0., 0.,  ..., 0., -inf, -inf],\n",
       "          [nan, nan, nan,  ..., nan, nan, nan],\n",
       "          [nan, nan, nan,  ..., nan, nan, nan]],\n",
       "\n",
       "         [[0., 0., 0.,  ..., 0., -inf, -inf],\n",
       "          [0., 0., 0.,  ..., 0., -inf, -inf],\n",
       "          [0., 0., 0.,  ..., 0., -inf, -inf],\n",
       "          ...,\n",
       "          [0., 0., 0.,  ..., 0., -inf, -inf],\n",
       "          [nan, nan, nan,  ..., nan, nan, nan],\n",
       "          [nan, nan, nan,  ..., nan, nan, nan]],\n",
       "\n",
       "         [[0., 0., 0.,  ..., 0., -inf, -inf],\n",
       "          [0., 0., 0.,  ..., 0., -inf, -inf],\n",
       "          [0., 0., 0.,  ..., 0., -inf, -inf],\n",
       "          ...,\n",
       "          [0., 0., 0.,  ..., 0., -inf, -inf],\n",
       "          [nan, nan, nan,  ..., nan, nan, nan],\n",
       "          [nan, nan, nan,  ..., nan, nan, nan]]],\n",
       "\n",
       "\n",
       "        [[[0., 0., 0.,  ..., 0., 0., -inf],\n",
       "          [0., 0., 0.,  ..., 0., 0., -inf],\n",
       "          [0., 0., 0.,  ..., 0., 0., -inf],\n",
       "          ...,\n",
       "          [0., 0., 0.,  ..., 0., 0., -inf],\n",
       "          [0., 0., 0.,  ..., 0., 0., -inf],\n",
       "          [nan, nan, nan,  ..., nan, nan, nan]],\n",
       "\n",
       "         [[0., 0., 0.,  ..., 0., 0., -inf],\n",
       "          [0., 0., 0.,  ..., 0., 0., -inf],\n",
       "          [0., 0., 0.,  ..., 0., 0., -inf],\n",
       "          ...,\n",
       "          [0., 0., 0.,  ..., 0., 0., -inf],\n",
       "          [0., 0., 0.,  ..., 0., 0., -inf],\n",
       "          [nan, nan, nan,  ..., nan, nan, nan]],\n",
       "\n",
       "         [[0., 0., 0.,  ..., 0., 0., -inf],\n",
       "          [0., 0., 0.,  ..., 0., 0., -inf],\n",
       "          [0., 0., 0.,  ..., 0., 0., -inf],\n",
       "          ...,\n",
       "          [0., 0., 0.,  ..., 0., 0., -inf],\n",
       "          [0., 0., 0.,  ..., 0., 0., -inf],\n",
       "          [nan, nan, nan,  ..., nan, nan, nan]],\n",
       "\n",
       "         ...,\n",
       "\n",
       "         [[0., 0., 0.,  ..., 0., 0., -inf],\n",
       "          [0., 0., 0.,  ..., 0., 0., -inf],\n",
       "          [0., 0., 0.,  ..., 0., 0., -inf],\n",
       "          ...,\n",
       "          [0., 0., 0.,  ..., 0., 0., -inf],\n",
       "          [0., 0., 0.,  ..., 0., 0., -inf],\n",
       "          [nan, nan, nan,  ..., nan, nan, nan]],\n",
       "\n",
       "         [[0., 0., 0.,  ..., 0., 0., -inf],\n",
       "          [0., 0., 0.,  ..., 0., 0., -inf],\n",
       "          [0., 0., 0.,  ..., 0., 0., -inf],\n",
       "          ...,\n",
       "          [0., 0., 0.,  ..., 0., 0., -inf],\n",
       "          [0., 0., 0.,  ..., 0., 0., -inf],\n",
       "          [nan, nan, nan,  ..., nan, nan, nan]],\n",
       "\n",
       "         [[0., 0., 0.,  ..., 0., 0., -inf],\n",
       "          [0., 0., 0.,  ..., 0., 0., -inf],\n",
       "          [0., 0., 0.,  ..., 0., 0., -inf],\n",
       "          ...,\n",
       "          [0., 0., 0.,  ..., 0., 0., -inf],\n",
       "          [0., 0., 0.,  ..., 0., 0., -inf],\n",
       "          [nan, nan, nan,  ..., nan, nan, nan]]],\n",
       "\n",
       "\n",
       "        [[[0., 0., 0.,  ..., 0., 0., 0.],\n",
       "          [0., 0., 0.,  ..., 0., 0., 0.],\n",
       "          [0., 0., 0.,  ..., 0., 0., 0.],\n",
       "          ...,\n",
       "          [0., 0., 0.,  ..., 0., 0., 0.],\n",
       "          [0., 0., 0.,  ..., 0., 0., 0.],\n",
       "          [0., 0., 0.,  ..., 0., 0., 0.]],\n",
       "\n",
       "         [[0., 0., 0.,  ..., 0., 0., 0.],\n",
       "          [0., 0., 0.,  ..., 0., 0., 0.],\n",
       "          [0., 0., 0.,  ..., 0., 0., 0.],\n",
       "          ...,\n",
       "          [0., 0., 0.,  ..., 0., 0., 0.],\n",
       "          [0., 0., 0.,  ..., 0., 0., 0.],\n",
       "          [0., 0., 0.,  ..., 0., 0., 0.]],\n",
       "\n",
       "         [[0., 0., 0.,  ..., 0., 0., 0.],\n",
       "          [0., 0., 0.,  ..., 0., 0., 0.],\n",
       "          [0., 0., 0.,  ..., 0., 0., 0.],\n",
       "          ...,\n",
       "          [0., 0., 0.,  ..., 0., 0., 0.],\n",
       "          [0., 0., 0.,  ..., 0., 0., 0.],\n",
       "          [0., 0., 0.,  ..., 0., 0., 0.]],\n",
       "\n",
       "         ...,\n",
       "\n",
       "         [[0., 0., 0.,  ..., 0., 0., 0.],\n",
       "          [0., 0., 0.,  ..., 0., 0., 0.],\n",
       "          [0., 0., 0.,  ..., 0., 0., 0.],\n",
       "          ...,\n",
       "          [0., 0., 0.,  ..., 0., 0., 0.],\n",
       "          [0., 0., 0.,  ..., 0., 0., 0.],\n",
       "          [0., 0., 0.,  ..., 0., 0., 0.]],\n",
       "\n",
       "         [[0., 0., 0.,  ..., 0., 0., 0.],\n",
       "          [0., 0., 0.,  ..., 0., 0., 0.],\n",
       "          [0., 0., 0.,  ..., 0., 0., 0.],\n",
       "          ...,\n",
       "          [0., 0., 0.,  ..., 0., 0., 0.],\n",
       "          [0., 0., 0.,  ..., 0., 0., 0.],\n",
       "          [0., 0., 0.,  ..., 0., 0., 0.]],\n",
       "\n",
       "         [[0., 0., 0.,  ..., 0., 0., 0.],\n",
       "          [0., 0., 0.,  ..., 0., 0., 0.],\n",
       "          [0., 0., 0.,  ..., 0., 0., 0.],\n",
       "          ...,\n",
       "          [0., 0., 0.,  ..., 0., 0., 0.],\n",
       "          [0., 0., 0.,  ..., 0., 0., 0.],\n",
       "          [0., 0., 0.,  ..., 0., 0., 0.]]]])"
      ]
     },
     "execution_count": 42,
     "metadata": {},
     "output_type": "execute_result"
    }
   ],
   "source": [
    "attention_mask*padding_mask.unsqueeze(-1)"
   ]
  },
  {
   "cell_type": "code",
   "execution_count": 21,
   "metadata": {},
   "outputs": [
    {
     "name": "stdout",
     "output_type": "stream",
     "text": [
      "Accepted values for norm: 'layer' and 'batch'. Proceeding without normalization layers.\n"
     ]
    }
   ],
   "source": [
    "model = GraphRepresentationGraphTransformer(2,8,1,32,1,0.0,0.0,k=POS_ENCODING_DIM,pos_encoding=None, norm=None, readout='mean')"
   ]
  },
  {
   "cell_type": "code",
   "execution_count": 22,
   "metadata": {},
   "outputs": [
    {
     "data": {
      "text/plain": [
       "tensor([[ 0.2884,  2.0394, -1.2443, -0.2292, -0.2319, -0.8444,  0.5057, -0.4165],\n",
       "        [ 0.3331,  1.9958, -1.1855, -0.2285, -0.2192, -0.8393,  0.5538, -0.3853],\n",
       "        [ 0.3781,  1.9518, -1.1262, -0.2278, -0.2065, -0.8340,  0.6025, -0.3538],\n",
       "        [ 0.4236,  1.9073, -1.0663, -0.2271, -0.1936, -0.8288,  0.6515, -0.3220],\n",
       "        [ 0.4682,  1.8652, -1.0042, -0.2253, -0.1794, -0.8253,  0.7000, -0.2930],\n",
       "        [ 0.5127,  1.8234, -0.9409, -0.2230, -0.1647, -0.8224,  0.7486, -0.2646],\n",
       "        [ 0.5576,  1.7813, -0.8771, -0.2208, -0.1498, -0.8195,  0.7976, -0.2360],\n",
       "        [ 0.6030,  1.7389, -0.8127, -0.2185, -0.1349, -0.8166,  0.8471, -0.2071],\n",
       "        [ 0.6487,  1.6960, -0.7477, -0.2162, -0.1197, -0.8136,  0.8970, -0.1779],\n",
       "        [ 0.6938,  1.6515, -0.6831, -0.2151, -0.1017, -0.8085,  0.9475, -0.1480]],\n",
       "       grad_fn=<DivBackward0>)"
      ]
     },
     "execution_count": 22,
     "metadata": {},
     "output_type": "execute_result"
    }
   ],
   "source": [
    "model(batch, batch.x)"
   ]
  },
  {
   "cell_type": "code",
   "execution_count": 37,
   "metadata": {},
   "outputs": [
    {
     "name": "stderr",
     "output_type": "stream",
     "text": [
      "/tmp/ipykernel_65935/744447651.py:3: UserWarning: torch.range is deprecated and will be removed in a future release because its behavior is inconsistent with Python's range builtin. Instead, use torch.arange, which produces values in [start, end).\n",
      "  C1_batch.x = torch.range(0, C1_batch.num_nodes-1, dtype=torch.long)\n"
     ]
    },
    {
     "data": {
      "text/plain": [
       "DataBatch(edge_index=[2, 30], num_nodes=10, laplacian_eigs=[10, 4], wl_encoding=[10], batch=[10], ptr=[2], x=[10])"
      ]
     },
     "execution_count": 37,
     "metadata": {},
     "output_type": "execute_result"
    }
   ],
   "source": [
    "C1_batch = Batch.from_data_list([torch_geometric_graphs[0]])\n",
    "#C1_batch.x = torch.ones(C1_batch.num_nodes, dtype=torch.long)\n",
    "C1_batch.x = torch.range(0, C1_batch.num_nodes-1, dtype=torch.long)\n",
    "C1_batch"
   ]
  },
  {
   "cell_type": "code",
   "execution_count": 40,
   "metadata": {},
   "outputs": [],
   "source": [
    "model = GraphTransformer(10, 16, 4, 20, 1, 0.0, 0.0, POS_ENCODING_DIM, None, 'layer')"
   ]
  },
  {
   "cell_type": "code",
   "execution_count": 41,
   "metadata": {},
   "outputs": [
    {
     "data": {
      "text/plain": [
       "tensor([[ 0.8744,  0.8175,  0.1311,  2.1191, -0.0109,  0.7796, -0.3331,  0.2649,\n",
       "         -2.2398, -1.1661, -0.5722,  0.4417, -0.9872, -0.8004,  0.8526, -0.1711],\n",
       "        [-0.7642,  0.8023,  0.3971,  0.5484, -0.6432,  0.4756, -0.4252, -0.6157,\n",
       "         -0.8927, -0.9772, -1.1636,  0.8466,  0.0209, -0.7109,  2.9607,  0.1410],\n",
       "        [ 0.3244,  1.4638,  0.1671,  0.3382, -0.9442,  2.1668, -0.2917,  0.1419,\n",
       "          0.1705,  1.1821, -2.1135, -0.9452, -0.0990, -0.0895, -0.8597, -0.6119],\n",
       "        [ 0.1975, -0.5398,  1.4378,  1.1986,  1.9914, -0.1182,  0.4058, -0.3679,\n",
       "         -0.9690, -1.6570, -0.2837,  1.0925, -1.0096, -1.3405, -0.2532,  0.2153],\n",
       "        [-0.5597, -0.1875, -1.3227,  1.9313, -0.9928, -0.1840,  0.1064,  1.0283,\n",
       "         -0.0803, -0.8687,  1.1626,  1.5618,  0.1491, -1.6495,  0.5790, -0.6732],\n",
       "        [ 0.5058,  0.2113,  1.3642,  0.4414,  0.4104, -0.5587, -0.4222,  0.2186,\n",
       "         -0.6752, -1.8546, -0.3212,  1.0556,  1.4814, -0.4556,  0.7894, -2.1906],\n",
       "        [-0.7001,  0.9111, -0.8038,  0.8216,  0.2277, -1.2959,  0.7250, -1.2432,\n",
       "         -0.4099, -0.9854,  0.2572,  1.2025, -1.6573,  1.0855,  0.1447,  1.7201],\n",
       "        [ 0.3406, -0.5432, -0.3233, -0.7854,  0.0748, -0.2324,  0.5559,  1.2064,\n",
       "          0.7745,  0.6579, -1.2155,  1.5798, -0.4139, -2.3554,  1.3612, -0.6820],\n",
       "        [ 0.6954, -0.6899,  1.3135,  0.7819,  0.5184,  0.1771,  0.6239,  0.7960,\n",
       "         -1.4261,  0.9144, -0.0701, -0.2733, -2.4189,  0.4059, -1.5421,  0.1939],\n",
       "        [-0.1077, -0.2710, -1.4127, -2.0842, -0.4273,  0.1338,  0.8058, -0.6635,\n",
       "         -0.3915,  0.0644,  0.2644, -0.2426,  0.9065,  0.5881,  0.2343,  2.6031]],\n",
       "       grad_fn=<CatBackward0>)"
      ]
     },
     "execution_count": 41,
     "metadata": {},
     "output_type": "execute_result"
    }
   ],
   "source": [
    "model(C1_batch, C1_batch.x, precomputed_eigenvectors=C1_batch.laplacian_eigs)"
   ]
  },
  {
   "cell_type": "code",
   "execution_count": 27,
   "metadata": {},
   "outputs": [],
   "source": [
    "C1_batch.x"
   ]
  },
  {
   "cell_type": "code",
   "execution_count": 48,
   "metadata": {},
   "outputs": [
    {
     "data": {
      "text/plain": [
       "DataBatch(edge_index=[2, 36], num_nodes=12, laplacian_eigs=[12, 2], wl_encoding=[12], batch=[12], ptr=[3], x=[12])"
      ]
     },
     "execution_count": 48,
     "metadata": {},
     "output_type": "execute_result"
    }
   ],
   "source": [
    "G1 = nx.empty_graph(6)\n",
    "nx.add_cycle(G1, [0,1,2])\n",
    "nx.add_cycle(G1, [3,4,5])\n",
    "\n",
    "G2 = nx.cycle_graph(6)\n",
    "\n",
    "# Convert NetworkX graphs to PyTorch Geometric format\n",
    "torch_geometric_graphs = [transforms(from_networkx(G1)), transforms(from_networkx(G2))]\n",
    "\n",
    "# Create a batch from the list of graphs\n",
    "batch = Batch.from_data_list(torch_geometric_graphs)\n",
    "batch.x = torch.ones(batch.num_nodes, dtype=torch.long)\n",
    "#batch.x = torch.range(0, batch.num_nodes-1, dtype=torch.long)\n",
    "batch"
   ]
  },
  {
   "cell_type": "code",
   "execution_count": 53,
   "metadata": {},
   "outputs": [
    {
     "name": "stdout",
     "output_type": "stream",
     "text": [
      "Accepted values for norm: 'layer' and 'batch'. Proceeding without normalization layers.\n"
     ]
    }
   ],
   "source": [
    "model = GraphRepresentationGraphTransformer(2,8,1,32,1,0.0,0.0,k=POS_ENCODING_DIM,pos_encoding='laplacian', norm=None, readout='mean')"
   ]
  },
  {
   "cell_type": "code",
   "execution_count": 54,
   "metadata": {},
   "outputs": [
    {
     "data": {
      "text/plain": [
       "tensor([[-0.5123,  0.7471, -1.7702, -0.5361, -0.9280,  1.1038, -0.4557, -0.9933],\n",
       "        [-0.5932,  0.9244, -1.8894, -0.6089, -0.9578,  0.9086, -0.3349, -1.1334]],\n",
       "       grad_fn=<DivBackward0>)"
      ]
     },
     "execution_count": 54,
     "metadata": {},
     "output_type": "execute_result"
    }
   ],
   "source": [
    "model(batch, batch.x, precomputed_eigenvectors=batch.laplacian_eigs)"
   ]
  },
  {
   "cell_type": "code",
   "execution_count": null,
   "metadata": {},
   "outputs": [],
   "source": []
  }
 ],
 "metadata": {
  "kernelspec": {
   "display_name": "geometric",
   "language": "python",
   "name": "python3"
  },
  "language_info": {
   "codemirror_mode": {
    "name": "ipython",
    "version": 3
   },
   "file_extension": ".py",
   "mimetype": "text/x-python",
   "name": "python",
   "nbconvert_exporter": "python",
   "pygments_lexer": "ipython3",
   "version": "3.11.5"
  }
 },
 "nbformat": 4,
 "nbformat_minor": 2
}
