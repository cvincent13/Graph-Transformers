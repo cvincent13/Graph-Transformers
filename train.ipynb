{
 "cells": [
  {
   "cell_type": "code",
   "execution_count": 1,
   "metadata": {},
   "outputs": [],
   "source": [
    "import numpy as np\n",
    "import matplotlib.pyplot as plt\n",
    "\n",
    "import torch\n",
    "import torch.nn as nn\n",
    "import torch.nn.functional as F\n",
    "\n",
    "import torch.optim as optim\n",
    "from torch.utils.data import DataLoader\n",
    "import random\n",
    "import time\n",
    "from tqdm import tqdm\n",
    "\n",
    "import torch_geometric\n",
    "import networkx as nx\n",
    "from scipy import sparse as sp\n",
    "\n",
    "import os\n",
    "import pickle\n",
    "\n",
    "import hashlib\n",
    "\n",
    "from models import GraphRegressionGraphTransformer, GraphTransformerEdges, GraphTransformer"
   ]
  },
  {
   "cell_type": "code",
   "execution_count": 2,
   "metadata": {},
   "outputs": [
    {
     "name": "stdout",
     "output_type": "stream",
     "text": [
      "cuda available with GPU: NVIDIA GeForce GTX 1660 Ti\n"
     ]
    }
   ],
   "source": [
    "SEED = 0\n",
    "\n",
    "if torch.cuda.is_available():\n",
    "    print('cuda available with GPU:',torch.cuda.get_device_name(0))\n",
    "    device = torch.device(\"cuda\")\n",
    "else:\n",
    "    print('cuda not available')\n",
    "    device = torch.device(\"cpu\")\n",
    "\n",
    "random.seed(SEED)\n",
    "np.random.seed(SEED)\n",
    "torch.manual_seed(SEED)\n",
    "if device.type == 'cuda':\n",
    "    torch.cuda.manual_seed(SEED)\n"
   ]
  },
  {
   "cell_type": "code",
   "execution_count": 3,
   "metadata": {},
   "outputs": [],
   "source": [
    "from torch_geometric.datasets import ZINC\n",
    "import torch_geometric.transforms as T\n",
    "\n",
    "def laplacian_pos_encoding(graph, pos_enc_dim):\n",
    "    laplacian_edge_index, laplacian_edge_attr = torch_geometric.utils.get_laplacian(graph.edge_index, graph.edge_attr, normalization='rw')\n",
    "    laplacian_sparse = torch_geometric.utils.to_scipy_sparse_matrix(laplacian_edge_index, laplacian_edge_attr)\n",
    "\n",
    "    EigVal, EigVec = sp.linalg.eigs(laplacian_sparse, k=pos_enc_dim+1, which='SR', tol=1e-2)\n",
    "    EigVec = EigVec[:, EigVal.argsort()]\n",
    "    EigVec = torch.from_numpy(EigVec[:,1:pos_enc_dim+1]).float()\n",
    "\n",
    "    graph.x = torch.cat([graph.x, EigVec], dim=1)\n",
    "    return graph\n",
    "\n",
    "class AddLaplacianPosEncoding(T.BaseTransform):\n",
    "    def __init__(self, pos_enc_dim=10):\n",
    "        self.pos_enc_dim = pos_enc_dim\n",
    "    def __call__(self, graph):\n",
    "        return laplacian_pos_encoding(graph, self.pos_enc_dim)"
   ]
  },
  {
   "cell_type": "code",
   "execution_count": 4,
   "metadata": {},
   "outputs": [],
   "source": [
    "pos_enc_dim = 4\n",
    "\n",
    "data_transforms = T.Compose([\n",
    "    AddLaplacianPosEncoding(pos_enc_dim),\n",
    "    T.AddSelfLoops('edge_attr')\n",
    "    ])\n",
    "\n",
    "\n",
    "dataset_train = ZINC('data', subset=True, split='train', pre_transform=data_transforms)\n",
    "dataset_val = ZINC('data', subset=True, split='val', pre_transform=data_transforms)\n",
    "dataset_test = ZINC('data', subset=True, split='test', pre_transform=data_transforms)"
   ]
  },
  {
   "cell_type": "code",
   "execution_count": 5,
   "metadata": {},
   "outputs": [],
   "source": [
    "dataloader_train = torch_geometric.loader.DataLoader(dataset_train, batch_size=32, shuffle=True)\n",
    "dataloader_val = torch_geometric.loader.DataLoader(dataset_val, batch_size=32, shuffle=True)\n",
    "dataloader_test = torch_geometric.loader.DataLoader(dataset_test, batch_size=32, shuffle=True)"
   ]
  },
  {
   "cell_type": "code",
   "execution_count": 6,
   "metadata": {},
   "outputs": [],
   "source": [
    "n_token_input = torch.unique(dataset_train.x[:,0]).size(0)\n",
    "n_edges_input = torch.unique(dataset_train.edge_attr).size(0)+1\n",
    "n_hidden = 64\n",
    "n_head = 8\n",
    "n_feedforward = 160\n",
    "n_layers = 4\n",
    "batch_size = 32"
   ]
  },
  {
   "cell_type": "code",
   "execution_count": 13,
   "metadata": {},
   "outputs": [],
   "source": [
    "model = GraphRegressionGraphTransformer(n_token_input, n_hidden, n_head, n_feedforward, n_layers, input_dropout=0.0, dropout=0.0, k=pos_enc_dim, norm='layer')"
   ]
  },
  {
   "cell_type": "code",
   "execution_count": 14,
   "metadata": {},
   "outputs": [],
   "source": [
    "g = next(iter(dataloader_train))\n",
    "g = g.to(device)\n",
    "h = g.x[:,0].to(torch.long)\n",
    "\n",
    "precomputed_eigenvectors = g.x[:,1:]\n",
    "sign_flip = torch.rand(precomputed_eigenvectors.size(1)).to(device)\n",
    "sign_flip[sign_flip>=0.5] = 1.0; sign_flip[sign_flip<0.5] = -1.0\n",
    "precomputed_eigenvectors = (precomputed_eigenvectors * sign_flip.unsqueeze(0))\n",
    "\n",
    "y = g.y"
   ]
  },
  {
   "cell_type": "code",
   "execution_count": 16,
   "metadata": {},
   "outputs": [
    {
     "data": {
      "text/plain": [
       "tensor(1.6207, device='cuda:0', grad_fn=<MeanBackward0>)"
      ]
     },
     "execution_count": 16,
     "metadata": {},
     "output_type": "execute_result"
    }
   ],
   "source": [
    "model = model.to(device)\n",
    "out = model(g, h, precomputed_eigenvectors=precomputed_eigenvectors)\n",
    "nn.L1Loss()(out, y)"
   ]
  },
  {
   "cell_type": "code",
   "execution_count": 10,
   "metadata": {},
   "outputs": [
    {
     "data": {
      "text/plain": [
       "DataBatch(x=[760, 5], edge_index=[2, 2400], edge_attr=[2400], y=[32], batch=[760], ptr=[33])"
      ]
     },
     "execution_count": 10,
     "metadata": {},
     "output_type": "execute_result"
    }
   ],
   "source": [
    "g = next(iter(dataloader_train))\n",
    "g"
   ]
  },
  {
   "cell_type": "code",
   "execution_count": 14,
   "metadata": {},
   "outputs": [],
   "source": [
    "g.edge_index, g.edge_attr = torch_geometric.utils.add_self_loops(g.edge_index, g.edge_attr)"
   ]
  },
  {
   "cell_type": "code",
   "execution_count": 22,
   "metadata": {},
   "outputs": [
    {
     "data": {
      "text/plain": [
       "(torch.Size([2, 1640]), torch.Size([1640]))"
      ]
     },
     "execution_count": 22,
     "metadata": {},
     "output_type": "execute_result"
    }
   ],
   "source": [
    "g.edge_index.shape, g.edge_attr.shape"
   ]
  },
  {
   "cell_type": "code",
   "execution_count": 25,
   "metadata": {},
   "outputs": [],
   "source": [
    "g2 = T.AddSelfLoops('edge_attr')(g)"
   ]
  },
  {
   "cell_type": "code",
   "execution_count": 26,
   "metadata": {},
   "outputs": [
    {
     "data": {
      "text/plain": [
       "(torch.Size([2, 2400]), torch.Size([2400]))"
      ]
     },
     "execution_count": 26,
     "metadata": {},
     "output_type": "execute_result"
    }
   ],
   "source": [
    "g2.edge_index.shape, g2.edge_attr.shape"
   ]
  },
  {
   "cell_type": "code",
   "execution_count": null,
   "metadata": {},
   "outputs": [],
   "source": []
  },
  {
   "cell_type": "code",
   "execution_count": null,
   "metadata": {},
   "outputs": [],
   "source": []
  },
  {
   "cell_type": "code",
   "execution_count": null,
   "metadata": {},
   "outputs": [],
   "source": []
  },
  {
   "cell_type": "code",
   "execution_count": null,
   "metadata": {},
   "outputs": [],
   "source": []
  },
  {
   "cell_type": "code",
   "execution_count": 57,
   "metadata": {},
   "outputs": [
    {
     "data": {
      "text/plain": [
       "torch.Size([769, 64])"
      ]
     },
     "execution_count": 57,
     "metadata": {},
     "output_type": "execute_result"
    }
   ],
   "source": [
    "embedding = nn.Embedding(n_token_input, n_hidden)\n",
    "\n",
    "h = g.x[:,0].to(torch.long)\n",
    "h = embedding(h)\n",
    "h.shape"
   ]
  },
  {
   "cell_type": "code",
   "execution_count": 58,
   "metadata": {},
   "outputs": [
    {
     "data": {
      "text/plain": [
       "torch.Size([32, 31, 31, 64])"
      ]
     },
     "execution_count": 58,
     "metadata": {},
     "output_type": "execute_result"
    }
   ],
   "source": [
    "embedding_e = nn.Embedding(n_edges_input+1, n_hidden)\n",
    "\n",
    "e = g.edge_attr\n",
    "e = embedding_e(e)\n",
    "e = torch_geometric.utils.to_dense_adj(g.edge_index, batch=g.batch, edge_attr=e)\n",
    "e.shape"
   ]
  },
  {
   "cell_type": "code",
   "execution_count": 59,
   "metadata": {},
   "outputs": [
    {
     "name": "stdout",
     "output_type": "stream",
     "text": [
      "h torch.Size([769, 64])\n",
      "e torch.Size([32, 31, 31, 64])\n",
      "attention_mask_sparse torch.Size([32, 8, 31, 31])\n",
      "x torch.Size([32, 31, 64])\n",
      "Q_x torch.Size([32, 8, 31, 8])\n",
      "E_e torch.Size([32, 8, 31, 31, 8])\n",
      "intermediate_scores torch.Size([32, 8, 31, 31, 8])\n",
      "scores torch.Size([32, 8, 31, 31])\n",
      "e torch.Size([32, 31, 31, 64])\n",
      "attended_values torch.Size([32, 8, 31, 8])\n",
      "attended_values torch.Size([32, 31, 64])\n",
      "x torch.Size([32, 31, 64])\n",
      "e torch.Size([32, 31, 31, 64])\n",
      "h torch.Size([769, 64])\n"
     ]
    },
    {
     "data": {
      "text/plain": [
       "(tensor([[ 0.8550, -0.1221,  2.5496,  ..., -1.2301, -0.5582, -0.2343],\n",
       "         [ 0.9960,  0.3076,  2.5076,  ..., -0.9811, -0.4937, -0.2938],\n",
       "         [ 1.0642, -0.0920,  2.5787,  ..., -1.1043, -0.6603, -0.2499],\n",
       "         ...,\n",
       "         [ 0.2957,  0.1815,  1.3257,  ...,  0.5246,  0.3222, -0.5420],\n",
       "         [ 0.6350, -1.6593, -2.4357,  ..., -0.0530,  0.6150,  1.1979],\n",
       "         [ 0.9708, -0.0574,  2.5721,  ..., -1.1647, -0.7113, -0.4355]],\n",
       "        grad_fn=<NativeLayerNormBackward0>),\n",
       " tensor([[[[ 0.0607,  0.0880, -0.1300,  ..., -0.0720,  0.0499, -0.0335],\n",
       "           [-0.0277,  0.1061, -0.1006,  ...,  0.0369,  0.1199, -0.0844],\n",
       "           [ 0.0650,  0.0908, -0.1313,  ..., -0.0680,  0.0469, -0.0320],\n",
       "           ...,\n",
       "           [ 0.0589,  0.0957, -0.1250,  ..., -0.0873,  0.0526, -0.0395],\n",
       "           [ 0.0585,  0.0955, -0.1251,  ..., -0.0875,  0.0530, -0.0393],\n",
       "           [ 0.0583,  0.0956, -0.1251,  ..., -0.0876,  0.0529, -0.0392]],\n",
       " \n",
       "          [[-0.0164,  0.1474, -0.1014,  ..., -0.0834,  0.1072, -0.0683],\n",
       "           [ 0.0598,  0.0916, -0.1310,  ..., -0.0694,  0.0456, -0.0349],\n",
       "           [ 0.0750,  0.1908, -0.0706,  ..., -0.1398,  0.0546,  0.0164],\n",
       "           ...,\n",
       "           [ 0.0583,  0.0958, -0.1251,  ..., -0.0873,  0.0525, -0.0390],\n",
       "           [ 0.0586,  0.0957, -0.1248,  ..., -0.0873,  0.0528, -0.0394],\n",
       "           [ 0.0585,  0.0956, -0.1254,  ..., -0.0873,  0.0526, -0.0391]],\n",
       " \n",
       "          [[ 0.0619,  0.0885, -0.1357,  ..., -0.0681,  0.0454, -0.0312],\n",
       "           [ 0.0696,  0.1769, -0.0781,  ..., -0.1526,  0.0582,  0.0131],\n",
       "           [ 0.0605,  0.0916, -0.1346,  ..., -0.0689,  0.0480, -0.0313],\n",
       "           ...,\n",
       "           [ 0.0585,  0.0956, -0.1253,  ..., -0.0874,  0.0526, -0.0391],\n",
       "           [ 0.0583,  0.0954, -0.1254,  ..., -0.0873,  0.0527, -0.0391],\n",
       "           [ 0.0582,  0.0956, -0.1252,  ..., -0.0875,  0.0530, -0.0393]],\n",
       " \n",
       "          ...,\n",
       " \n",
       "          [[ 0.0581,  0.0959, -0.1246,  ..., -0.0870,  0.0518, -0.0386],\n",
       "           [ 0.0585,  0.0964, -0.1245,  ..., -0.0864,  0.0512, -0.0385],\n",
       "           [ 0.0580,  0.0961, -0.1244,  ..., -0.0861,  0.0515, -0.0388],\n",
       "           ...,\n",
       "           [ 0.0582,  0.0957, -0.1243,  ..., -0.0869,  0.0524, -0.0392],\n",
       "           [ 0.0582,  0.0957, -0.1243,  ..., -0.0869,  0.0524, -0.0393],\n",
       "           [ 0.0582,  0.0957, -0.1243,  ..., -0.0869,  0.0524, -0.0393]],\n",
       " \n",
       "          [[ 0.0584,  0.0961, -0.1247,  ..., -0.0866,  0.0514, -0.0384],\n",
       "           [ 0.0584,  0.0963, -0.1248,  ..., -0.0867,  0.0513, -0.0384],\n",
       "           [ 0.0584,  0.0962, -0.1248,  ..., -0.0861,  0.0512, -0.0384],\n",
       "           ...,\n",
       "           [ 0.0583,  0.0957, -0.1243,  ..., -0.0870,  0.0524, -0.0392],\n",
       "           [ 0.0582,  0.0957, -0.1243,  ..., -0.0869,  0.0524, -0.0393],\n",
       "           [ 0.0582,  0.0957, -0.1243,  ..., -0.0869,  0.0524, -0.0393]],\n",
       " \n",
       "          [[ 0.0586,  0.0962, -0.1247,  ..., -0.0868,  0.0511, -0.0384],\n",
       "           [ 0.0581,  0.0961, -0.1246,  ..., -0.0863,  0.0514, -0.0385],\n",
       "           [ 0.0587,  0.0962, -0.1244,  ..., -0.0863,  0.0514, -0.0384],\n",
       "           ...,\n",
       "           [ 0.0583,  0.0957, -0.1243,  ..., -0.0870,  0.0523, -0.0392],\n",
       "           [ 0.0582,  0.0957, -0.1243,  ..., -0.0869,  0.0524, -0.0393],\n",
       "           [ 0.0582,  0.0957, -0.1243,  ..., -0.0869,  0.0524, -0.0393]]],\n",
       " \n",
       " \n",
       "         [[[ 0.0522,  0.0871, -0.1322,  ..., -0.0799,  0.0483, -0.0318],\n",
       "           [-0.1006,  0.0511, -0.0794,  ...,  0.0142,  0.0097, -0.0950],\n",
       "           [ 0.0518,  0.1074, -0.1191,  ..., -0.0931,  0.0548, -0.0431],\n",
       "           ...,\n",
       "           [ 0.0580,  0.0953, -0.1243,  ..., -0.0858,  0.0521, -0.0390],\n",
       "           [ 0.0578,  0.0955, -0.1239,  ..., -0.0858,  0.0519, -0.0392],\n",
       "           [ 0.0580,  0.0953, -0.1242,  ..., -0.0858,  0.0521, -0.0389]],\n",
       " \n",
       "          [[ 0.0471,  0.0973, -0.1993,  ..., -0.1204,  0.0915, -0.0169],\n",
       "           [ 0.0667,  0.0910, -0.1296,  ..., -0.0730,  0.0459, -0.0334],\n",
       "           [-0.0125,  0.0993, -0.0969,  ...,  0.0467,  0.1354, -0.0846],\n",
       "           ...,\n",
       "           [ 0.0583,  0.0955, -0.1252,  ..., -0.0875,  0.0530, -0.0392],\n",
       "           [ 0.0584,  0.0954, -0.1250,  ..., -0.0876,  0.0530, -0.0392],\n",
       "           [ 0.0583,  0.0957, -0.1248,  ..., -0.0876,  0.0528, -0.0393]],\n",
       " \n",
       "          [[ 0.0583,  0.0969, -0.1187,  ..., -0.0980,  0.0622, -0.0420],\n",
       "           [-0.0279,  0.0960, -0.1019,  ...,  0.0423,  0.1250, -0.0857],\n",
       "           [ 0.0572,  0.0916, -0.1288,  ..., -0.0716,  0.0499, -0.0351],\n",
       "           ...,\n",
       "           [ 0.0585,  0.0954, -0.1253,  ..., -0.0875,  0.0528, -0.0389],\n",
       "           [ 0.0582,  0.0954, -0.1253,  ..., -0.0874,  0.0527, -0.0390],\n",
       "           [ 0.0585,  0.0955, -0.1250,  ..., -0.0874,  0.0530, -0.0395]],\n",
       " \n",
       "          ...,\n",
       " \n",
       "          [[ 0.0587,  0.0949, -0.1248,  ..., -0.0874,  0.0522, -0.0391],\n",
       "           [ 0.0582,  0.0959, -0.1249,  ..., -0.0872,  0.0516, -0.0385],\n",
       "           [ 0.0584,  0.0959, -0.1245,  ..., -0.0866,  0.0513, -0.0385],\n",
       "           ...,\n",
       "           [ 0.0582,  0.0957, -0.1242,  ..., -0.0870,  0.0524, -0.0393],\n",
       "           [ 0.0582,  0.0957, -0.1243,  ..., -0.0870,  0.0524, -0.0393],\n",
       "           [ 0.0582,  0.0957, -0.1243,  ..., -0.0870,  0.0524, -0.0393]],\n",
       " \n",
       "          [[ 0.0587,  0.0947, -0.1248,  ..., -0.0875,  0.0521, -0.0392],\n",
       "           [ 0.0586,  0.0960, -0.1252,  ..., -0.0868,  0.0513, -0.0380],\n",
       "           [ 0.0575,  0.0958, -0.1239,  ..., -0.0865,  0.0521, -0.0392],\n",
       "           ...,\n",
       "           [ 0.0582,  0.0957, -0.1243,  ..., -0.0870,  0.0524, -0.0393],\n",
       "           [ 0.0583,  0.0957, -0.1243,  ..., -0.0870,  0.0524, -0.0392],\n",
       "           [ 0.0583,  0.0957, -0.1243,  ..., -0.0870,  0.0524, -0.0393]],\n",
       " \n",
       "          [[ 0.0587,  0.0948, -0.1248,  ..., -0.0877,  0.0521, -0.0392],\n",
       "           [ 0.0591,  0.0962, -0.1249,  ..., -0.0862,  0.0513, -0.0382],\n",
       "           [ 0.0585,  0.0960, -0.1249,  ..., -0.0869,  0.0515, -0.0387],\n",
       "           ...,\n",
       "           [ 0.0582,  0.0957, -0.1243,  ..., -0.0870,  0.0524, -0.0393],\n",
       "           [ 0.0582,  0.0957, -0.1243,  ..., -0.0870,  0.0524, -0.0393],\n",
       "           [ 0.0582,  0.0957, -0.1243,  ..., -0.0870,  0.0524, -0.0393]]],\n",
       " \n",
       " \n",
       "         [[[ 0.0652,  0.0912, -0.1337,  ..., -0.0691,  0.0457, -0.0317],\n",
       "           [-0.0229,  0.1175, -0.0816,  ...,  0.0597,  0.1231, -0.1078],\n",
       "           [ 0.0612,  0.0954, -0.1341,  ..., -0.0735,  0.0456, -0.0305],\n",
       "           ...,\n",
       "           [ 0.0582,  0.0954, -0.1253,  ..., -0.0874,  0.0527, -0.0390],\n",
       "           [ 0.0582,  0.0955, -0.1251,  ..., -0.0874,  0.0532, -0.0394],\n",
       "           [ 0.0582,  0.0956, -0.1251,  ..., -0.0876,  0.0530, -0.0393]],\n",
       " \n",
       "          [[-0.0177,  0.1189, -0.0835,  ...,  0.0562,  0.1236, -0.1080],\n",
       "           [ 0.0641,  0.0910, -0.1339,  ..., -0.0685,  0.0454, -0.0304],\n",
       "           [ 0.0762,  0.1800, -0.0739,  ..., -0.1495,  0.0497,  0.0105],\n",
       "           ...,\n",
       "           [ 0.0581,  0.0957, -0.1249,  ..., -0.0876,  0.0527, -0.0393],\n",
       "           [ 0.0584,  0.0955, -0.1252,  ..., -0.0876,  0.0529, -0.0393],\n",
       "           [ 0.0587,  0.0955, -0.1249,  ..., -0.0876,  0.0526, -0.0395]],\n",
       " \n",
       "          [[ 0.0610,  0.0924, -0.1296,  ..., -0.0735,  0.0489, -0.0346],\n",
       "           [ 0.0724,  0.1696, -0.0872,  ..., -0.1357,  0.0470,  0.0070],\n",
       "           [ 0.0632,  0.0922, -0.1301,  ..., -0.0687,  0.0484, -0.0328],\n",
       "           ...,\n",
       "           [ 0.0584,  0.0956, -0.1252,  ..., -0.0875,  0.0528, -0.0392],\n",
       "           [ 0.0585,  0.0958, -0.1250,  ..., -0.0878,  0.0529, -0.0391],\n",
       "           [ 0.0583,  0.0957, -0.1252,  ..., -0.0875,  0.0530, -0.0392]],\n",
       " \n",
       "          ...,\n",
       " \n",
       "          [[ 0.0587,  0.0964, -0.1245,  ..., -0.0864,  0.0514, -0.0388],\n",
       "           [ 0.0582,  0.0960, -0.1246,  ..., -0.0864,  0.0515, -0.0385],\n",
       "           [ 0.0583,  0.0960, -0.1244,  ..., -0.0867,  0.0517, -0.0390],\n",
       "           ...,\n",
       "           [ 0.0582,  0.0957, -0.1243,  ..., -0.0870,  0.0524, -0.0393],\n",
       "           [ 0.0582,  0.0957, -0.1243,  ..., -0.0870,  0.0524, -0.0393],\n",
       "           [ 0.0583,  0.0957, -0.1243,  ..., -0.0870,  0.0524, -0.0393]],\n",
       " \n",
       "          [[ 0.0589,  0.0960, -0.1252,  ..., -0.0868,  0.0518, -0.0383],\n",
       "           [ 0.0580,  0.0964, -0.1243,  ..., -0.0867,  0.0520, -0.0393],\n",
       "           [ 0.0584,  0.0960, -0.1249,  ..., -0.0871,  0.0518, -0.0391],\n",
       "           ...,\n",
       "           [ 0.0582,  0.0957, -0.1243,  ..., -0.0870,  0.0524, -0.0393],\n",
       "           [ 0.0583,  0.0957, -0.1243,  ..., -0.0870,  0.0524, -0.0392],\n",
       "           [ 0.0582,  0.0957, -0.1242,  ..., -0.0870,  0.0524, -0.0393]],\n",
       " \n",
       "          [[ 0.0581,  0.0959, -0.1240,  ..., -0.0859,  0.0517, -0.0388],\n",
       "           [ 0.0582,  0.0960, -0.1250,  ..., -0.0871,  0.0518, -0.0390],\n",
       "           [ 0.0581,  0.0959, -0.1241,  ..., -0.0858,  0.0517, -0.0389],\n",
       "           ...,\n",
       "           [ 0.0583,  0.0957, -0.1242,  ..., -0.0869,  0.0524, -0.0393],\n",
       "           [ 0.0583,  0.0957, -0.1243,  ..., -0.0870,  0.0524, -0.0392],\n",
       "           [ 0.0583,  0.0957, -0.1243,  ..., -0.0869,  0.0524, -0.0392]]],\n",
       " \n",
       " \n",
       "         ...,\n",
       " \n",
       " \n",
       "         [[[ 0.0593,  0.0926, -0.1320,  ..., -0.0689,  0.0468, -0.0339],\n",
       "           [ 0.0731, -0.0041, -0.1937,  ..., -0.0702,  0.0070, -0.0224],\n",
       "           [ 0.0634,  0.0895, -0.1330,  ..., -0.0672,  0.0462, -0.0318],\n",
       "           ...,\n",
       "           [ 0.0584,  0.0956, -0.1251,  ..., -0.0878,  0.0529, -0.0392],\n",
       "           [ 0.0585,  0.0957, -0.1247,  ..., -0.0877,  0.0529, -0.0395],\n",
       "           [ 0.0588,  0.0957, -0.1250,  ..., -0.0876,  0.0524, -0.0393]],\n",
       " \n",
       "          [[ 0.0536,  0.1607, -0.1409,  ..., -0.2011, -0.0040,  0.0147],\n",
       "           [ 0.0512,  0.0876, -0.1321,  ..., -0.0770,  0.0481, -0.0324],\n",
       "           [ 0.0446,  0.1539, -0.1189,  ..., -0.2116,  0.0159, -0.0283],\n",
       "           ...,\n",
       "           [ 0.0581,  0.0953, -0.1242,  ..., -0.0857,  0.0521, -0.0389],\n",
       "           [ 0.0578,  0.0954, -0.1242,  ..., -0.0859,  0.0522, -0.0390],\n",
       "           [ 0.0580,  0.0953, -0.1242,  ..., -0.0857,  0.0522, -0.0390]],\n",
       " \n",
       "          [[ 0.0609,  0.0911, -0.1307,  ..., -0.0675,  0.0456, -0.0334],\n",
       "           [ 0.0542,  0.0289, -0.2026,  ..., -0.0453,  0.0176, -0.0153],\n",
       "           [ 0.0616,  0.0912, -0.1307,  ..., -0.0673,  0.0470, -0.0322],\n",
       "           ...,\n",
       "           [ 0.0586,  0.0957, -0.1251,  ..., -0.0872,  0.0529, -0.0393],\n",
       "           [ 0.0583,  0.0959, -0.1249,  ..., -0.0877,  0.0530, -0.0394],\n",
       "           [ 0.0583,  0.0956, -0.1248,  ..., -0.0877,  0.0526, -0.0396]],\n",
       " \n",
       "          ...,\n",
       " \n",
       "          [[ 0.0588,  0.0960, -0.1243,  ..., -0.0869,  0.0518, -0.0386],\n",
       "           [ 0.0589,  0.0949, -0.1247,  ..., -0.0871,  0.0523, -0.0391],\n",
       "           [ 0.0584,  0.0964, -0.1249,  ..., -0.0863,  0.0512, -0.0384],\n",
       "           ...,\n",
       "           [ 0.0583,  0.0957, -0.1243,  ..., -0.0870,  0.0524, -0.0393],\n",
       "           [ 0.0582,  0.0957, -0.1242,  ..., -0.0869,  0.0524, -0.0393],\n",
       "           [ 0.0582,  0.0957, -0.1243,  ..., -0.0870,  0.0524, -0.0393]],\n",
       " \n",
       "          [[ 0.0587,  0.0962, -0.1246,  ..., -0.0864,  0.0514, -0.0382],\n",
       "           [ 0.0588,  0.0950, -0.1247,  ..., -0.0873,  0.0521, -0.0392],\n",
       "           [ 0.0587,  0.0962, -0.1243,  ..., -0.0870,  0.0517, -0.0385],\n",
       "           ...,\n",
       "           [ 0.0582,  0.0957, -0.1243,  ..., -0.0869,  0.0524, -0.0393],\n",
       "           [ 0.0582,  0.0957, -0.1243,  ..., -0.0870,  0.0524, -0.0393],\n",
       "           [ 0.0583,  0.0957, -0.1242,  ..., -0.0869,  0.0524, -0.0393]],\n",
       " \n",
       "          [[ 0.0583,  0.0959, -0.1240,  ..., -0.0859,  0.0518, -0.0387],\n",
       "           [ 0.0588,  0.0951, -0.1246,  ..., -0.0874,  0.0520, -0.0390],\n",
       "           [ 0.0586,  0.0961, -0.1247,  ..., -0.0870,  0.0516, -0.0386],\n",
       "           ...,\n",
       "           [ 0.0582,  0.0957, -0.1243,  ..., -0.0870,  0.0524, -0.0393],\n",
       "           [ 0.0582,  0.0957, -0.1243,  ..., -0.0870,  0.0524, -0.0393],\n",
       "           [ 0.0582,  0.0956, -0.1242,  ..., -0.0870,  0.0524, -0.0393]]],\n",
       " \n",
       " \n",
       "         [[[ 0.0624,  0.0895, -0.1343,  ..., -0.0665,  0.0468, -0.0301],\n",
       "           [ 0.0333,  0.0269, -0.1802,  ..., -0.0488,  0.0304, -0.0030],\n",
       "           [ 0.0630,  0.0904, -0.1325,  ..., -0.0680,  0.0462, -0.0317],\n",
       "           ...,\n",
       "           [ 0.0583,  0.0958, -0.1248,  ..., -0.0879,  0.0529, -0.0393],\n",
       "           [ 0.0585,  0.0957, -0.1253,  ..., -0.0873,  0.0525, -0.0387],\n",
       "           [ 0.0584,  0.0957, -0.1249,  ..., -0.0879,  0.0528, -0.0393]],\n",
       " \n",
       "          [[ 0.0761,  0.1722, -0.1086,  ..., -0.2331,  0.0121, -0.0229],\n",
       "           [ 0.0499,  0.0841, -0.1323,  ..., -0.0766,  0.0499, -0.0333],\n",
       "           [ 0.0425,  0.1473, -0.1136,  ..., -0.2187,  0.0244, -0.0380],\n",
       "           ...,\n",
       "           [ 0.0582,  0.0952, -0.1243,  ..., -0.0858,  0.0521, -0.0389],\n",
       "           [ 0.0580,  0.0953, -0.1244,  ..., -0.0858,  0.0523, -0.0390],\n",
       "           [ 0.0579,  0.0953, -0.1243,  ..., -0.0858,  0.0522, -0.0389]],\n",
       " \n",
       "          [[ 0.0624,  0.0937, -0.1330,  ..., -0.0709,  0.0485, -0.0319],\n",
       "           [ 0.0812,  0.0120, -0.1894,  ..., -0.0890,  0.0050, -0.0213],\n",
       "           [ 0.0622,  0.0900, -0.1332,  ..., -0.0676,  0.0468, -0.0308],\n",
       "           ...,\n",
       "           [ 0.0583,  0.0955, -0.1252,  ..., -0.0875,  0.0529, -0.0391],\n",
       "           [ 0.0584,  0.0955, -0.1251,  ..., -0.0876,  0.0529, -0.0393],\n",
       "           [ 0.0581,  0.0955, -0.1252,  ..., -0.0877,  0.0529, -0.0393]],\n",
       " \n",
       "          ...,\n",
       " \n",
       "          [[ 0.0579,  0.0962, -0.1243,  ..., -0.0865,  0.0516, -0.0392],\n",
       "           [ 0.0586,  0.0950, -0.1246,  ..., -0.0877,  0.0525, -0.0392],\n",
       "           [ 0.0583,  0.0961, -0.1246,  ..., -0.0865,  0.0514, -0.0385],\n",
       "           ...,\n",
       "           [ 0.0582,  0.0957, -0.1243,  ..., -0.0870,  0.0524, -0.0392],\n",
       "           [ 0.0582,  0.0957, -0.1242,  ..., -0.0870,  0.0524, -0.0393],\n",
       "           [ 0.0583,  0.0957, -0.1243,  ..., -0.0870,  0.0524, -0.0392]],\n",
       " \n",
       "          [[ 0.0586,  0.0960, -0.1248,  ..., -0.0864,  0.0514, -0.0385],\n",
       "           [ 0.0586,  0.0950, -0.1248,  ..., -0.0872,  0.0522, -0.0391],\n",
       "           [ 0.0581,  0.0958, -0.1247,  ..., -0.0869,  0.0518, -0.0389],\n",
       "           ...,\n",
       "           [ 0.0582,  0.0957, -0.1243,  ..., -0.0870,  0.0524, -0.0393],\n",
       "           [ 0.0583,  0.0957, -0.1243,  ..., -0.0869,  0.0524, -0.0392],\n",
       "           [ 0.0582,  0.0957, -0.1243,  ..., -0.0869,  0.0524, -0.0393]],\n",
       " \n",
       "          [[ 0.0581,  0.0960, -0.1247,  ..., -0.0864,  0.0512, -0.0383],\n",
       "           [ 0.0589,  0.0950, -0.1248,  ..., -0.0872,  0.0522, -0.0390],\n",
       "           [ 0.0588,  0.0963, -0.1246,  ..., -0.0864,  0.0513, -0.0381],\n",
       "           ...,\n",
       "           [ 0.0582,  0.0957, -0.1243,  ..., -0.0869,  0.0524, -0.0393],\n",
       "           [ 0.0582,  0.0957, -0.1243,  ..., -0.0870,  0.0524, -0.0393],\n",
       "           [ 0.0583,  0.0957, -0.1242,  ..., -0.0869,  0.0524, -0.0393]]],\n",
       " \n",
       " \n",
       "         [[[ 0.0621,  0.0942, -0.1305,  ..., -0.0753,  0.0493, -0.0315],\n",
       "           [ 0.0410,  0.1071, -0.1194,  ..., -0.0776,  0.0659, -0.0429],\n",
       "           [ 0.0632,  0.0882, -0.1302,  ..., -0.0711,  0.0459, -0.0316],\n",
       "           ...,\n",
       "           [ 0.0635,  0.0926, -0.1308,  ..., -0.0703,  0.0477, -0.0322],\n",
       "           [ 0.0582,  0.0955, -0.1252,  ..., -0.0875,  0.0527, -0.0391],\n",
       "           [ 0.0583,  0.0959, -0.1249,  ..., -0.0876,  0.0527, -0.0391]],\n",
       " \n",
       "          [[ 0.0840,  0.1247, -0.1920,  ..., -0.1191,  0.0118, -0.0089],\n",
       "           [ 0.0608,  0.0964, -0.1216,  ..., -0.0890,  0.0511, -0.0411],\n",
       "           [ 0.0729,  0.1102, -0.1949,  ..., -0.1080,  0.0238, -0.0347],\n",
       "           ...,\n",
       "           [ 0.0621,  0.0967, -0.1263,  ..., -0.0894,  0.0487, -0.0368],\n",
       "           [ 0.0575,  0.0956, -0.1245,  ..., -0.0863,  0.0529, -0.0392],\n",
       "           [ 0.0573,  0.0956, -0.1246,  ..., -0.0862,  0.0528, -0.0391]],\n",
       " \n",
       "          [[ 0.0620,  0.0903, -0.1317,  ..., -0.0744,  0.0476, -0.0315],\n",
       "           [ 0.0655,  0.1299, -0.0932,  ..., -0.1054,  0.0850, -0.0662],\n",
       "           [ 0.0607,  0.0899, -0.1337,  ..., -0.0680,  0.0457, -0.0331],\n",
       "           ...,\n",
       "           [ 0.0596,  0.0948, -0.1330,  ..., -0.0703,  0.0471, -0.0325],\n",
       "           [ 0.0582,  0.0955, -0.1250,  ..., -0.0878,  0.0530, -0.0393],\n",
       "           [ 0.0584,  0.0958, -0.1250,  ..., -0.0876,  0.0528, -0.0394]],\n",
       " \n",
       "          ...,\n",
       " \n",
       "          [[ 0.0628,  0.0907, -0.1327,  ..., -0.0677,  0.0462, -0.0314],\n",
       "           [ 0.0634,  0.0942, -0.1260,  ..., -0.0886,  0.0502, -0.0355],\n",
       "           [ 0.0629,  0.0895, -0.1292,  ..., -0.0714,  0.0494, -0.0326],\n",
       "           ...,\n",
       "           [ 0.0617,  0.0902, -0.1307,  ..., -0.0666,  0.0464, -0.0328],\n",
       "           [ 0.0583,  0.0955, -0.1253,  ..., -0.0878,  0.0530, -0.0393],\n",
       "           [ 0.0584,  0.0956, -0.1251,  ..., -0.0876,  0.0529, -0.0392]],\n",
       " \n",
       "          [[ 0.0582,  0.0959, -0.1246,  ..., -0.0870,  0.0518, -0.0387],\n",
       "           [ 0.0580,  0.0956, -0.1243,  ..., -0.0878,  0.0529, -0.0402],\n",
       "           [ 0.0590,  0.0963, -0.1251,  ..., -0.0870,  0.0514, -0.0383],\n",
       "           ...,\n",
       "           [ 0.0581,  0.0962, -0.1241,  ..., -0.0863,  0.0517, -0.0392],\n",
       "           [ 0.0583,  0.0957, -0.1242,  ..., -0.0870,  0.0524, -0.0393],\n",
       "           [ 0.0582,  0.0957, -0.1243,  ..., -0.0870,  0.0525, -0.0393]],\n",
       " \n",
       "          [[ 0.0585,  0.0962, -0.1248,  ..., -0.0866,  0.0513, -0.0384],\n",
       "           [ 0.0581,  0.0956, -0.1243,  ..., -0.0880,  0.0529, -0.0402],\n",
       "           [ 0.0585,  0.0961, -0.1246,  ..., -0.0866,  0.0514, -0.0384],\n",
       "           ...,\n",
       "           [ 0.0578,  0.0960, -0.1242,  ..., -0.0863,  0.0519, -0.0389],\n",
       "           [ 0.0582,  0.0957, -0.1242,  ..., -0.0870,  0.0524, -0.0393],\n",
       "           [ 0.0582,  0.0957, -0.1243,  ..., -0.0870,  0.0524, -0.0392]]]],\n",
       "        grad_fn=<ViewBackward0>))"
      ]
     },
     "execution_count": 59,
     "metadata": {},
     "output_type": "execute_result"
    }
   ],
   "source": [
    "layer = TransformerLayerEdges(n_hidden, n_head, n_feedforward, 0.1, 'layer')\n",
    "\n",
    "layer(g, h, e)"
   ]
  },
  {
   "cell_type": "code",
   "execution_count": 33,
   "metadata": {},
   "outputs": [
    {
     "data": {
      "image/png": "[encoded data removed]",
      "text/plain": [
       "<Figure size 640x480 with 2 Axes>"
      ]
     },
     "metadata": {},
     "output_type": "display_data"
    }
   ],
   "source": [
    "binary_array = attention_mask_sparse[0,0].to(torch.int)\n",
    "\n",
    "# Plot the binary array as a black-and-white image\n",
    "plt.imshow(binary_array, cmap='binary_r', interpolation='nearest')\n",
    "plt.title(\"Black and White Image\")\n",
    "plt.colorbar()\n",
    "plt.show()"
   ]
  },
  {
   "cell_type": "code",
   "execution_count": null,
   "metadata": {},
   "outputs": [],
   "source": []
  }
 ],
 "metadata": {
  "kernelspec": {
   "display_name": "geometric",
   "language": "python",
   "name": "python3"
  },
  "language_info": {
   "codemirror_mode": {
    "name": "ipython",
    "version": 3
   },
   "file_extension": ".py",
   "mimetype": "text/x-python",
   "name": "python",
   "nbconvert_exporter": "python",
   "pygments_lexer": "ipython3",
   "version": "3.11.5"
  }
 },
 "nbformat": 4,
 "nbformat_minor": 2
}
